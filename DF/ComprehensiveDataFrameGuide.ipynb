{
 "cells": [
  {
   "cell_type": "markdown",
   "id": "b1c814c1",
   "metadata": {},
   "source": [
    "# Comprehensive PySpark DataFrame Guide\n",
    "\n",
    "This notebook covers all essential DataFrame operations in PySpark, including:\n",
    "- Creating DataFrames from CSV files\n",
    "- Creating DataFrames from RDDs\n",
    "- Working with Schemas\n",
    "- Selecting columns\n",
    "- Modifying DataFrames with withColumn\n",
    "\n",
    "---"
   ]
  },
  {
   "cell_type": "markdown",
   "id": "4572f320",
   "metadata": {},
   "source": [
    "## 1. Initialize Spark Session\n",
    "\n",
    "First, we need to create a Spark session which is the entry point for all DataFrame operations."
   ]
  },
  {
   "cell_type": "code",
   "execution_count": 17,
   "id": "650123a9",
   "metadata": {},
   "outputs": [
    {
     "name": "stdout",
     "output_type": "stream",
     "text": [
      "Spark Session Created Successfully!\n"
     ]
    }
   ],
   "source": [
    "from pyspark.sql import SparkSession\n",
    "from pyspark.sql.types import StructType, StructField, IntegerType, StringType\n",
    "from pyspark.sql.functions import col, lit\n",
    "\n",
    "# Create Spark session\n",
    "spark = SparkSession.builder.appName(\"ComprehensiveDataFrameGuide\").getOrCreate()\n",
    "print(\"Spark Session Created Successfully!\")"
   ]
  },
  {
   "cell_type": "markdown",
   "id": "c35bea1e",
   "metadata": {},
   "source": [
    "## 2. Creating DataFrames from CSV Files\n",
    "\n",
    "### 2.1 Basic CSV Read with Header"
   ]
  },
  {
   "cell_type": "code",
   "execution_count": 49,
   "id": "637d240c",
   "metadata": {},
   "outputs": [
    {
     "name": "stdout",
     "output_type": "stream",
     "text": [
      "Basic DataFrame loaded:\n",
      "+---+------+----------------+------+------+-----+--------------------+\n",
      "|age|gender|            name|course|  roll|marks|               email|\n",
      "+---+------+----------------+------+------+-----+--------------------+\n",
      "| 28|Female| Hubert Oliveras|    DB| 02984|   59|Annika Hoffman_Na...|\n",
      "| 29|Female|Toshiko Hillyard| Cloud| 12899|   62|Margene Moores_Ma...|\n",
      "| 28|  Male|  Celeste Lollis|    PF| 21267|   45|Jeannetta Golden_...|\n",
      "| 29|Female|    Elenore Choy|    DB| 32877|   29|Billi Clore_Mitzi...|\n",
      "| 28|  Male|  Sheryll Towler|   DSA| 41487|   41|Claude Panos_Judi...|\n",
      "| 28|  Male|  Margene Moores|   MVC| 52771|   32|Toshiko Hillyard_...|\n",
      "| 28|  Male|     Neda Briski|   OOP| 61973|   69|Alberta Freund_El...|\n",
      "| 28|Female|    Claude Panos| Cloud| 72409|   85|Sheryll Towler_Al...|\n",
      "| 28|  Male|  Celeste Lollis|   MVC| 81492|   64|Nicole Harwood_Cl...|\n",
      "| 29|  Male|  Cordie Harnois|   OOP| 92882|   51|Judie Chipps_Clem...|\n",
      "| 29|Female|       Kena Wild|   DSA|102285|   35|Dustin Feagins_Ma...|\n",
      "| 29|  Male| Ernest Rossbach|    DB|111449|   53|Maybell Duguay_Ab...|\n",
      "| 28|Female|  Latia Vanhoose|    DB|122502|   27|Latia Vanhoose_Mi...|\n",
      "| 29|Female|  Latia Vanhoose|   MVC|132110|   55|Eda Neathery_Nico...|\n",
      "| 29|  Male|     Neda Briski|    PF|141770|   42|Margene Moores_Mi...|\n",
      "| 29|Female|  Latia Vanhoose|    DB|152159|   27|Claude Panos_Sant...|\n",
      "| 29|  Male|  Loris Crossett|   MVC|161771|   36|Mitzi Seldon_Jenn...|\n",
      "| 29|  Male|  Annika Hoffman|   OOP|171660|   22|Taryn Brownlee_Mi...|\n",
      "| 29|  Male|   Santa Kerfien|    PF|182129|   56|Judie Chipps_Tary...|\n",
      "| 28|Female|Mickey Cortright|    DB|192537|   62|Ernest Rossbach_M...|\n",
      "+---+------+----------------+------+------+-----+--------------------+\n",
      "only showing top 20 rows\n"
     ]
    }
   ],
   "source": [
    "# Read CSV file with header\n",
    "df = spark.read.options(header='True').csv(\"StudentData.csv\")\n",
    "print(\"Basic DataFrame loaded:\")\n",
    "df.show()"
   ]
  },
  {
   "cell_type": "markdown",
   "id": "708d5452",
   "metadata": {},
   "source": [
    "### 2.2 CSV Read with Schema Inference\n",
    "\n",
    "Using `inferSchema='True'` allows Spark to automatically detect column data types."
   ]
  },
  {
   "cell_type": "code",
   "execution_count": 19,
   "id": "1a754535",
   "metadata": {},
   "outputs": [
    {
     "name": "stdout",
     "output_type": "stream",
     "text": [
      "DataFrame with inferred schema:\n",
      "root\n",
      " |-- age: integer (nullable = true)\n",
      " |-- gender: string (nullable = true)\n",
      " |-- name: string (nullable = true)\n",
      " |-- course: string (nullable = true)\n",
      " |-- roll: integer (nullable = true)\n",
      " |-- marks: integer (nullable = true)\n",
      " |-- email: string (nullable = true)\n",
      "\n",
      "+---+------+----------------+------+------+-----+--------------------+\n",
      "|age|gender|            name|course|  roll|marks|               email|\n",
      "+---+------+----------------+------+------+-----+--------------------+\n",
      "| 28|Female| Hubert Oliveras|    DB|  2984|   59|Annika Hoffman_Na...|\n",
      "| 29|Female|Toshiko Hillyard| Cloud| 12899|   62|Margene Moores_Ma...|\n",
      "| 28|  Male|  Celeste Lollis|    PF| 21267|   45|Jeannetta Golden_...|\n",
      "| 29|Female|    Elenore Choy|    DB| 32877|   29|Billi Clore_Mitzi...|\n",
      "| 28|  Male|  Sheryll Towler|   DSA| 41487|   41|Claude Panos_Judi...|\n",
      "| 28|  Male|  Margene Moores|   MVC| 52771|   32|Toshiko Hillyard_...|\n",
      "| 28|  Male|     Neda Briski|   OOP| 61973|   69|Alberta Freund_El...|\n",
      "| 28|Female|    Claude Panos| Cloud| 72409|   85|Sheryll Towler_Al...|\n",
      "| 28|  Male|  Celeste Lollis|   MVC| 81492|   64|Nicole Harwood_Cl...|\n",
      "| 29|  Male|  Cordie Harnois|   OOP| 92882|   51|Judie Chipps_Clem...|\n",
      "| 29|Female|       Kena Wild|   DSA|102285|   35|Dustin Feagins_Ma...|\n",
      "| 29|  Male| Ernest Rossbach|    DB|111449|   53|Maybell Duguay_Ab...|\n",
      "| 28|Female|  Latia Vanhoose|    DB|122502|   27|Latia Vanhoose_Mi...|\n",
      "| 29|Female|  Latia Vanhoose|   MVC|132110|   55|Eda Neathery_Nico...|\n",
      "| 29|  Male|     Neda Briski|    PF|141770|   42|Margene Moores_Mi...|\n",
      "| 29|Female|  Latia Vanhoose|    DB|152159|   27|Claude Panos_Sant...|\n",
      "| 29|  Male|  Loris Crossett|   MVC|161771|   36|Mitzi Seldon_Jenn...|\n",
      "| 29|  Male|  Annika Hoffman|   OOP|171660|   22|Taryn Brownlee_Mi...|\n",
      "| 29|  Male|   Santa Kerfien|    PF|182129|   56|Judie Chipps_Tary...|\n",
      "| 28|Female|Mickey Cortright|    DB|192537|   62|Ernest Rossbach_M...|\n",
      "+---+------+----------------+------+------+-----+--------------------+\n",
      "only showing top 20 rows\n",
      "+---+------+----------------+------+------+-----+--------------------+\n",
      "|age|gender|            name|course|  roll|marks|               email|\n",
      "+---+------+----------------+------+------+-----+--------------------+\n",
      "| 28|Female| Hubert Oliveras|    DB|  2984|   59|Annika Hoffman_Na...|\n",
      "| 29|Female|Toshiko Hillyard| Cloud| 12899|   62|Margene Moores_Ma...|\n",
      "| 28|  Male|  Celeste Lollis|    PF| 21267|   45|Jeannetta Golden_...|\n",
      "| 29|Female|    Elenore Choy|    DB| 32877|   29|Billi Clore_Mitzi...|\n",
      "| 28|  Male|  Sheryll Towler|   DSA| 41487|   41|Claude Panos_Judi...|\n",
      "| 28|  Male|  Margene Moores|   MVC| 52771|   32|Toshiko Hillyard_...|\n",
      "| 28|  Male|     Neda Briski|   OOP| 61973|   69|Alberta Freund_El...|\n",
      "| 28|Female|    Claude Panos| Cloud| 72409|   85|Sheryll Towler_Al...|\n",
      "| 28|  Male|  Celeste Lollis|   MVC| 81492|   64|Nicole Harwood_Cl...|\n",
      "| 29|  Male|  Cordie Harnois|   OOP| 92882|   51|Judie Chipps_Clem...|\n",
      "| 29|Female|       Kena Wild|   DSA|102285|   35|Dustin Feagins_Ma...|\n",
      "| 29|  Male| Ernest Rossbach|    DB|111449|   53|Maybell Duguay_Ab...|\n",
      "| 28|Female|  Latia Vanhoose|    DB|122502|   27|Latia Vanhoose_Mi...|\n",
      "| 29|Female|  Latia Vanhoose|   MVC|132110|   55|Eda Neathery_Nico...|\n",
      "| 29|  Male|     Neda Briski|    PF|141770|   42|Margene Moores_Mi...|\n",
      "| 29|Female|  Latia Vanhoose|    DB|152159|   27|Claude Panos_Sant...|\n",
      "| 29|  Male|  Loris Crossett|   MVC|161771|   36|Mitzi Seldon_Jenn...|\n",
      "| 29|  Male|  Annika Hoffman|   OOP|171660|   22|Taryn Brownlee_Mi...|\n",
      "| 29|  Male|   Santa Kerfien|    PF|182129|   56|Judie Chipps_Tary...|\n",
      "| 28|Female|Mickey Cortright|    DB|192537|   62|Ernest Rossbach_M...|\n",
      "+---+------+----------------+------+------+-----+--------------------+\n",
      "only showing top 20 rows\n"
     ]
    }
   ],
   "source": [
    "# Read CSV with inferred schema\n",
    "df_inferred = spark.read.options(inferSchema='True', header='True', delimiter=',').csv(\"StudentData.csv\")\n",
    "print(\"DataFrame with inferred schema:\")\n",
    "df_inferred.printSchema()\n",
    "df_inferred.show()"
   ]
  },
  {
   "cell_type": "markdown",
   "id": "bfaea735",
   "metadata": {},
   "source": [
    "## 3. Working with Schemas\n",
    "\n",
    "### 3.1 Define Custom Schema\n",
    "\n",
    "Defining a schema explicitly gives you better control over data types and nullable properties."
   ]
  },
  {
   "cell_type": "code",
   "execution_count": 20,
   "id": "38eab4ee",
   "metadata": {},
   "outputs": [
    {
     "name": "stdout",
     "output_type": "stream",
     "text": [
      "Custom schema defined successfully!\n"
     ]
    }
   ],
   "source": [
    "# Define custom schema\n",
    "student_schema = StructType([\n",
    "    StructField(\"age\", IntegerType(), True),\n",
    "    StructField(\"gender\", StringType(), True),\n",
    "    StructField(\"name\", StringType(), True),\n",
    "    StructField(\"course\", StringType(), True),\n",
    "    StructField(\"roll\", StringType(), True),\n",
    "    StructField(\"marks\", IntegerType(), True),\n",
    "    StructField(\"email\", StringType(), True)\n",
    "])\n",
    "\n",
    "print(\"Custom schema defined successfully!\")"
   ]
  },
  {
   "cell_type": "markdown",
   "id": "cd4a1770",
   "metadata": {},
   "source": [
    "### 3.2 Read CSV with Custom Schema"
   ]
  },
  {
   "cell_type": "code",
   "execution_count": 21,
   "id": "833c3235",
   "metadata": {},
   "outputs": [
    {
     "name": "stdout",
     "output_type": "stream",
     "text": [
      "DataFrame with custom schema:\n",
      "root\n",
      " |-- age: integer (nullable = true)\n",
      " |-- gender: string (nullable = true)\n",
      " |-- name: string (nullable = true)\n",
      " |-- course: string (nullable = true)\n",
      " |-- roll: string (nullable = true)\n",
      " |-- marks: integer (nullable = true)\n",
      " |-- email: string (nullable = true)\n",
      "\n",
      "+---+------+----------------+------+------+-----+--------------------+\n",
      "|age|gender|            name|course|  roll|marks|               email|\n",
      "+---+------+----------------+------+------+-----+--------------------+\n",
      "| 28|Female| Hubert Oliveras|    DB| 02984|   59|Annika Hoffman_Na...|\n",
      "| 29|Female|Toshiko Hillyard| Cloud| 12899|   62|Margene Moores_Ma...|\n",
      "| 28|  Male|  Celeste Lollis|    PF| 21267|   45|Jeannetta Golden_...|\n",
      "| 29|Female|    Elenore Choy|    DB| 32877|   29|Billi Clore_Mitzi...|\n",
      "| 28|  Male|  Sheryll Towler|   DSA| 41487|   41|Claude Panos_Judi...|\n",
      "| 28|  Male|  Margene Moores|   MVC| 52771|   32|Toshiko Hillyard_...|\n",
      "| 28|  Male|     Neda Briski|   OOP| 61973|   69|Alberta Freund_El...|\n",
      "| 28|Female|    Claude Panos| Cloud| 72409|   85|Sheryll Towler_Al...|\n",
      "| 28|  Male|  Celeste Lollis|   MVC| 81492|   64|Nicole Harwood_Cl...|\n",
      "| 29|  Male|  Cordie Harnois|   OOP| 92882|   51|Judie Chipps_Clem...|\n",
      "| 29|Female|       Kena Wild|   DSA|102285|   35|Dustin Feagins_Ma...|\n",
      "| 29|  Male| Ernest Rossbach|    DB|111449|   53|Maybell Duguay_Ab...|\n",
      "| 28|Female|  Latia Vanhoose|    DB|122502|   27|Latia Vanhoose_Mi...|\n",
      "| 29|Female|  Latia Vanhoose|   MVC|132110|   55|Eda Neathery_Nico...|\n",
      "| 29|  Male|     Neda Briski|    PF|141770|   42|Margene Moores_Mi...|\n",
      "| 29|Female|  Latia Vanhoose|    DB|152159|   27|Claude Panos_Sant...|\n",
      "| 29|  Male|  Loris Crossett|   MVC|161771|   36|Mitzi Seldon_Jenn...|\n",
      "| 29|  Male|  Annika Hoffman|   OOP|171660|   22|Taryn Brownlee_Mi...|\n",
      "| 29|  Male|   Santa Kerfien|    PF|182129|   56|Judie Chipps_Tary...|\n",
      "| 28|Female|Mickey Cortright|    DB|192537|   62|Ernest Rossbach_M...|\n",
      "+---+------+----------------+------+------+-----+--------------------+\n",
      "only showing top 20 rows\n",
      "+---+------+----------------+------+------+-----+--------------------+\n",
      "|age|gender|            name|course|  roll|marks|               email|\n",
      "+---+------+----------------+------+------+-----+--------------------+\n",
      "| 28|Female| Hubert Oliveras|    DB| 02984|   59|Annika Hoffman_Na...|\n",
      "| 29|Female|Toshiko Hillyard| Cloud| 12899|   62|Margene Moores_Ma...|\n",
      "| 28|  Male|  Celeste Lollis|    PF| 21267|   45|Jeannetta Golden_...|\n",
      "| 29|Female|    Elenore Choy|    DB| 32877|   29|Billi Clore_Mitzi...|\n",
      "| 28|  Male|  Sheryll Towler|   DSA| 41487|   41|Claude Panos_Judi...|\n",
      "| 28|  Male|  Margene Moores|   MVC| 52771|   32|Toshiko Hillyard_...|\n",
      "| 28|  Male|     Neda Briski|   OOP| 61973|   69|Alberta Freund_El...|\n",
      "| 28|Female|    Claude Panos| Cloud| 72409|   85|Sheryll Towler_Al...|\n",
      "| 28|  Male|  Celeste Lollis|   MVC| 81492|   64|Nicole Harwood_Cl...|\n",
      "| 29|  Male|  Cordie Harnois|   OOP| 92882|   51|Judie Chipps_Clem...|\n",
      "| 29|Female|       Kena Wild|   DSA|102285|   35|Dustin Feagins_Ma...|\n",
      "| 29|  Male| Ernest Rossbach|    DB|111449|   53|Maybell Duguay_Ab...|\n",
      "| 28|Female|  Latia Vanhoose|    DB|122502|   27|Latia Vanhoose_Mi...|\n",
      "| 29|Female|  Latia Vanhoose|   MVC|132110|   55|Eda Neathery_Nico...|\n",
      "| 29|  Male|     Neda Briski|    PF|141770|   42|Margene Moores_Mi...|\n",
      "| 29|Female|  Latia Vanhoose|    DB|152159|   27|Claude Panos_Sant...|\n",
      "| 29|  Male|  Loris Crossett|   MVC|161771|   36|Mitzi Seldon_Jenn...|\n",
      "| 29|  Male|  Annika Hoffman|   OOP|171660|   22|Taryn Brownlee_Mi...|\n",
      "| 29|  Male|   Santa Kerfien|    PF|182129|   56|Judie Chipps_Tary...|\n",
      "| 28|Female|Mickey Cortright|    DB|192537|   62|Ernest Rossbach_M...|\n",
      "+---+------+----------------+------+------+-----+--------------------+\n",
      "only showing top 20 rows\n"
     ]
    }
   ],
   "source": [
    "# Read CSV with custom schema\n",
    "df_schema = spark.read.options(header='True').schema(student_schema).csv(\"StudentData.csv\")\n",
    "print(\"DataFrame with custom schema:\")\n",
    "df_schema.printSchema()\n",
    "df_schema.show()"
   ]
  },
  {
   "cell_type": "markdown",
   "id": "0dc96b79",
   "metadata": {},
   "source": [
    "## 4. Creating DataFrames from RDDs\n",
    "\n",
    "### 4.1 Read Data as RDD"
   ]
  },
  {
   "cell_type": "code",
   "execution_count": 22,
   "id": "b4f36d96",
   "metadata": {},
   "outputs": [
    {
     "name": "stdout",
     "output_type": "stream",
     "text": [
      "RDD created successfully!\n",
      "Header: age,gender,name,course,roll,marks,email\n",
      "Number of records: 1000\n",
      "Number of records: 1000\n"
     ]
    }
   ],
   "source": [
    "from pyspark import SparkContext, SparkConf\n",
    "\n",
    "# Get or create SparkContext\n",
    "conf = SparkConf().setAppName(\"RDD to DataFrame\")\n",
    "sc = SparkContext.getOrCreate(conf=conf)\n",
    "\n",
    "# Read file as RDD\n",
    "rdd_raw = sc.textFile(\"StudentData.csv\")\n",
    "header_row = rdd_raw.first()\n",
    "rdd_data = rdd_raw.filter(lambda x: x != header_row).map(lambda x: x.split(\",\"))\n",
    "\n",
    "print(\"RDD created successfully!\")\n",
    "print(f\"Header: {header_row}\")\n",
    "print(f\"Number of records: {rdd_data.count()}\")"
   ]
  },
  {
   "cell_type": "markdown",
   "id": "95fdc86e",
   "metadata": {},
   "source": [
    "### 4.2 Convert RDD to DataFrame with Schema"
   ]
  },
  {
   "cell_type": "code",
   "execution_count": 24,
   "id": "badb3abd",
   "metadata": {},
   "outputs": [
    {
     "name": "stdout",
     "output_type": "stream",
     "text": [
      "DataFrame created from RDD:\n",
      "root\n",
      " |-- age: integer (nullable = true)\n",
      " |-- gender: string (nullable = true)\n",
      " |-- name: string (nullable = true)\n",
      " |-- course: string (nullable = true)\n",
      " |-- roll: string (nullable = true)\n",
      " |-- marks: integer (nullable = true)\n",
      " |-- email: string (nullable = true)\n",
      "\n"
     ]
    }
   ],
   "source": [
    "# Create DataFrame from RDD using custom schema\n",
    "df_from_rdd = spark.createDataFrame(rdd_data, schema=student_schema)\n",
    "print(\"DataFrame created from RDD:\")\n",
    "df_from_rdd.printSchema()\n",
    "# df_from_rdd.show()"
   ]
  },
  {
   "cell_type": "markdown",
   "id": "abfb0b53",
   "metadata": {},
   "source": [
    "## 5. Selecting DataFrame Columns\n",
    "\n",
    "There are multiple ways to select columns from a DataFrame.\n",
    "\n",
    "### 5.1 Select Columns by Name"
   ]
  },
  {
   "cell_type": "code",
   "execution_count": 28,
   "id": "7ef68f29",
   "metadata": {},
   "outputs": [
    {
     "name": "stdout",
     "output_type": "stream",
     "text": [
      "Selecting 'name' and 'gender' columns:\n",
      "+----------------+------+\n",
      "|            name|gender|\n",
      "+----------------+------+\n",
      "| Hubert Oliveras|Female|\n",
      "|Toshiko Hillyard|Female|\n",
      "|  Celeste Lollis|  Male|\n",
      "|    Elenore Choy|Female|\n",
      "|  Sheryll Towler|  Male|\n",
      "|  Margene Moores|  Male|\n",
      "|     Neda Briski|  Male|\n",
      "|    Claude Panos|Female|\n",
      "|  Celeste Lollis|  Male|\n",
      "|  Cordie Harnois|  Male|\n",
      "|       Kena Wild|Female|\n",
      "| Ernest Rossbach|  Male|\n",
      "|  Latia Vanhoose|Female|\n",
      "|  Latia Vanhoose|Female|\n",
      "|     Neda Briski|  Male|\n",
      "|  Latia Vanhoose|Female|\n",
      "|  Loris Crossett|  Male|\n",
      "|  Annika Hoffman|  Male|\n",
      "|   Santa Kerfien|  Male|\n",
      "|Mickey Cortright|Female|\n",
      "+----------------+------+\n",
      "only showing top 20 rows\n"
     ]
    }
   ],
   "source": [
    "# Use the inferred schema DataFrame for selection operations\n",
    "print(\"Selecting 'name' and 'gender' columns:\")\n",
    "df_inferred.select(\"name\", \"gender\").show()"
   ]
  },
  {
   "cell_type": "markdown",
   "id": "468d7daa",
   "metadata": {},
   "source": [
    "### 5.2 Select Columns Using DataFrame Attributes"
   ]
  },
  {
   "cell_type": "code",
   "execution_count": 29,
   "id": "25c88cbb",
   "metadata": {},
   "outputs": [
    {
     "name": "stdout",
     "output_type": "stream",
     "text": [
      "Selecting columns using DataFrame attributes:\n",
      "+----------------+------+\n",
      "|            name|gender|\n",
      "+----------------+------+\n",
      "| Hubert Oliveras|Female|\n",
      "|Toshiko Hillyard|Female|\n",
      "|  Celeste Lollis|  Male|\n",
      "|    Elenore Choy|Female|\n",
      "|  Sheryll Towler|  Male|\n",
      "|  Margene Moores|  Male|\n",
      "|     Neda Briski|  Male|\n",
      "|    Claude Panos|Female|\n",
      "|  Celeste Lollis|  Male|\n",
      "|  Cordie Harnois|  Male|\n",
      "|       Kena Wild|Female|\n",
      "| Ernest Rossbach|  Male|\n",
      "|  Latia Vanhoose|Female|\n",
      "|  Latia Vanhoose|Female|\n",
      "|     Neda Briski|  Male|\n",
      "|  Latia Vanhoose|Female|\n",
      "|  Loris Crossett|  Male|\n",
      "|  Annika Hoffman|  Male|\n",
      "|   Santa Kerfien|  Male|\n",
      "|Mickey Cortright|Female|\n",
      "+----------------+------+\n",
      "only showing top 20 rows\n"
     ]
    }
   ],
   "source": [
    "# Selecting columns using dot notation\n",
    "print(\"Selecting columns using DataFrame attributes:\")\n",
    "df_inferred.select(df_inferred.name, df_inferred.gender).show()"
   ]
  },
  {
   "cell_type": "markdown",
   "id": "51aef2a3",
   "metadata": {},
   "source": [
    "### 5.3 Select Columns Using col() Function"
   ]
  },
  {
   "cell_type": "code",
   "execution_count": 30,
   "id": "b0cf299e",
   "metadata": {},
   "outputs": [
    {
     "name": "stdout",
     "output_type": "stream",
     "text": [
      "Selecting columns using col() function:\n",
      "+----------------+------+\n",
      "|            name|gender|\n",
      "+----------------+------+\n",
      "| Hubert Oliveras|Female|\n",
      "|Toshiko Hillyard|Female|\n",
      "|  Celeste Lollis|  Male|\n",
      "|    Elenore Choy|Female|\n",
      "|  Sheryll Towler|  Male|\n",
      "|  Margene Moores|  Male|\n",
      "|     Neda Briski|  Male|\n",
      "|    Claude Panos|Female|\n",
      "|  Celeste Lollis|  Male|\n",
      "|  Cordie Harnois|  Male|\n",
      "|       Kena Wild|Female|\n",
      "| Ernest Rossbach|  Male|\n",
      "|  Latia Vanhoose|Female|\n",
      "|  Latia Vanhoose|Female|\n",
      "|     Neda Briski|  Male|\n",
      "|  Latia Vanhoose|Female|\n",
      "|  Loris Crossett|  Male|\n",
      "|  Annika Hoffman|  Male|\n",
      "|   Santa Kerfien|  Male|\n",
      "|Mickey Cortright|Female|\n",
      "+----------------+------+\n",
      "only showing top 20 rows\n"
     ]
    }
   ],
   "source": [
    "# Selecting columns using col function (recommended approach)\n",
    "print(\"Selecting columns using col() function:\")\n",
    "df_inferred.select(col(\"name\"), col(\"gender\")).show()"
   ]
  },
  {
   "cell_type": "markdown",
   "id": "5ad91c70",
   "metadata": {},
   "source": [
    "### 5.4 Select All Columns"
   ]
  },
  {
   "cell_type": "code",
   "execution_count": 31,
   "id": "d0683915",
   "metadata": {},
   "outputs": [
    {
     "name": "stdout",
     "output_type": "stream",
     "text": [
      "Selecting all columns:\n",
      "+---+------+----------------+------+------+-----+--------------------+\n",
      "|age|gender|            name|course|  roll|marks|               email|\n",
      "+---+------+----------------+------+------+-----+--------------------+\n",
      "| 28|Female| Hubert Oliveras|    DB|  2984|   59|Annika Hoffman_Na...|\n",
      "| 29|Female|Toshiko Hillyard| Cloud| 12899|   62|Margene Moores_Ma...|\n",
      "| 28|  Male|  Celeste Lollis|    PF| 21267|   45|Jeannetta Golden_...|\n",
      "| 29|Female|    Elenore Choy|    DB| 32877|   29|Billi Clore_Mitzi...|\n",
      "| 28|  Male|  Sheryll Towler|   DSA| 41487|   41|Claude Panos_Judi...|\n",
      "| 28|  Male|  Margene Moores|   MVC| 52771|   32|Toshiko Hillyard_...|\n",
      "| 28|  Male|     Neda Briski|   OOP| 61973|   69|Alberta Freund_El...|\n",
      "| 28|Female|    Claude Panos| Cloud| 72409|   85|Sheryll Towler_Al...|\n",
      "| 28|  Male|  Celeste Lollis|   MVC| 81492|   64|Nicole Harwood_Cl...|\n",
      "| 29|  Male|  Cordie Harnois|   OOP| 92882|   51|Judie Chipps_Clem...|\n",
      "| 29|Female|       Kena Wild|   DSA|102285|   35|Dustin Feagins_Ma...|\n",
      "| 29|  Male| Ernest Rossbach|    DB|111449|   53|Maybell Duguay_Ab...|\n",
      "| 28|Female|  Latia Vanhoose|    DB|122502|   27|Latia Vanhoose_Mi...|\n",
      "| 29|Female|  Latia Vanhoose|   MVC|132110|   55|Eda Neathery_Nico...|\n",
      "| 29|  Male|     Neda Briski|    PF|141770|   42|Margene Moores_Mi...|\n",
      "| 29|Female|  Latia Vanhoose|    DB|152159|   27|Claude Panos_Sant...|\n",
      "| 29|  Male|  Loris Crossett|   MVC|161771|   36|Mitzi Seldon_Jenn...|\n",
      "| 29|  Male|  Annika Hoffman|   OOP|171660|   22|Taryn Brownlee_Mi...|\n",
      "| 29|  Male|   Santa Kerfien|    PF|182129|   56|Judie Chipps_Tary...|\n",
      "| 28|Female|Mickey Cortright|    DB|192537|   62|Ernest Rossbach_M...|\n",
      "+---+------+----------------+------+------+-----+--------------------+\n",
      "only showing top 20 rows\n"
     ]
    }
   ],
   "source": [
    "# Selecting all columns using wildcard\n",
    "print(\"Selecting all columns:\")\n",
    "df_inferred.select('*').show()"
   ]
  },
  {
   "cell_type": "markdown",
   "id": "fe066c25",
   "metadata": {},
   "source": [
    "### 5.5 Select Columns by Index Range"
   ]
  },
  {
   "cell_type": "code",
   "execution_count": 32,
   "id": "5a807325",
   "metadata": {},
   "outputs": [
    {
     "name": "stdout",
     "output_type": "stream",
     "text": [
      "Selecting columns by index (2 to 6):\n",
      "+----------------+------+------+-----+\n",
      "|            name|course|  roll|marks|\n",
      "+----------------+------+------+-----+\n",
      "| Hubert Oliveras|    DB|  2984|   59|\n",
      "|Toshiko Hillyard| Cloud| 12899|   62|\n",
      "|  Celeste Lollis|    PF| 21267|   45|\n",
      "|    Elenore Choy|    DB| 32877|   29|\n",
      "|  Sheryll Towler|   DSA| 41487|   41|\n",
      "|  Margene Moores|   MVC| 52771|   32|\n",
      "|     Neda Briski|   OOP| 61973|   69|\n",
      "|    Claude Panos| Cloud| 72409|   85|\n",
      "|  Celeste Lollis|   MVC| 81492|   64|\n",
      "|  Cordie Harnois|   OOP| 92882|   51|\n",
      "|       Kena Wild|   DSA|102285|   35|\n",
      "| Ernest Rossbach|    DB|111449|   53|\n",
      "|  Latia Vanhoose|    DB|122502|   27|\n",
      "|  Latia Vanhoose|   MVC|132110|   55|\n",
      "|     Neda Briski|    PF|141770|   42|\n",
      "|  Latia Vanhoose|    DB|152159|   27|\n",
      "|  Loris Crossett|   MVC|161771|   36|\n",
      "|  Annika Hoffman|   OOP|171660|   22|\n",
      "|   Santa Kerfien|    PF|182129|   56|\n",
      "|Mickey Cortright|    DB|192537|   62|\n",
      "+----------------+------+------+-----+\n",
      "only showing top 20 rows\n"
     ]
    }
   ],
   "source": [
    "# Selecting columns by index range\n",
    "print(\"Selecting columns by index (2 to 6):\")\n",
    "df_inferred.select(df_inferred.columns[2:6]).show()"
   ]
  },
  {
   "cell_type": "markdown",
   "id": "6901bd3b",
   "metadata": {},
   "source": [
    "### 5.6 Create New DataFrame with Selected Columns"
   ]
  },
  {
   "cell_type": "code",
   "execution_count": 33,
   "id": "af9eb7c1",
   "metadata": {},
   "outputs": [
    {
     "name": "stdout",
     "output_type": "stream",
     "text": [
      "New DataFrame with selected columns:\n",
      "+------+----------------+-----+\n",
      "|  roll|            name|marks|\n",
      "+------+----------------+-----+\n",
      "|  2984| Hubert Oliveras|   59|\n",
      "| 12899|Toshiko Hillyard|   62|\n",
      "| 21267|  Celeste Lollis|   45|\n",
      "| 32877|    Elenore Choy|   29|\n",
      "| 41487|  Sheryll Towler|   41|\n",
      "| 52771|  Margene Moores|   32|\n",
      "| 61973|     Neda Briski|   69|\n",
      "| 72409|    Claude Panos|   85|\n",
      "| 81492|  Celeste Lollis|   64|\n",
      "| 92882|  Cordie Harnois|   51|\n",
      "|102285|       Kena Wild|   35|\n",
      "|111449| Ernest Rossbach|   53|\n",
      "|122502|  Latia Vanhoose|   27|\n",
      "|132110|  Latia Vanhoose|   55|\n",
      "|141770|     Neda Briski|   42|\n",
      "|152159|  Latia Vanhoose|   27|\n",
      "|161771|  Loris Crossett|   36|\n",
      "|171660|  Annika Hoffman|   22|\n",
      "|182129|   Santa Kerfien|   56|\n",
      "|192537|Mickey Cortright|   62|\n",
      "+------+----------------+-----+\n",
      "only showing top 20 rows\n"
     ]
    }
   ],
   "source": [
    "# Creating a new DataFrame with specific columns\n",
    "df_selected = df_inferred.select(col(\"roll\"), col(\"name\"), col(\"marks\"))\n",
    "print(\"New DataFrame with selected columns:\")\n",
    "df_selected.show()"
   ]
  },
  {
   "cell_type": "markdown",
   "id": "f6490cf2",
   "metadata": {},
   "source": [
    "## 6. Modifying DataFrames with withColumn\n",
    "\n",
    "The `withColumn()` method is used to add new columns or modify existing ones.\n",
    "\n",
    "### 6.1 Cast Column Type"
   ]
  },
  {
   "cell_type": "code",
   "execution_count": 34,
   "id": "207b56e7",
   "metadata": {},
   "outputs": [
    {
     "name": "stdout",
     "output_type": "stream",
     "text": [
      "Schema after casting 'roll' to String:\n",
      "root\n",
      " |-- age: integer (nullable = true)\n",
      " |-- gender: string (nullable = true)\n",
      " |-- name: string (nullable = true)\n",
      " |-- course: string (nullable = true)\n",
      " |-- roll: string (nullable = true)\n",
      " |-- marks: integer (nullable = true)\n",
      " |-- email: string (nullable = true)\n",
      "\n"
     ]
    }
   ],
   "source": [
    "# Cast 'roll' column from Integer to String\n",
    "df_modified = df_inferred.withColumn(\"roll\", col(\"roll\").cast(\"String\"))\n",
    "print(\"Schema after casting 'roll' to String:\")\n",
    "df_modified.printSchema()"
   ]
  },
  {
   "cell_type": "markdown",
   "id": "2c659dab",
   "metadata": {},
   "source": [
    "### 6.2 Add Value to Existing Column"
   ]
  },
  {
   "cell_type": "code",
   "execution_count": 35,
   "id": "5b2bf4b8",
   "metadata": {},
   "outputs": [
    {
     "name": "stdout",
     "output_type": "stream",
     "text": [
      "DataFrame after adding 10 bonus marks:\n",
      "+---+------+----------------+------+------+-----+--------------------+\n",
      "|age|gender|            name|course|  roll|marks|               email|\n",
      "+---+------+----------------+------+------+-----+--------------------+\n",
      "| 28|Female| Hubert Oliveras|    DB|  2984|   69|Annika Hoffman_Na...|\n",
      "| 29|Female|Toshiko Hillyard| Cloud| 12899|   72|Margene Moores_Ma...|\n",
      "| 28|  Male|  Celeste Lollis|    PF| 21267|   55|Jeannetta Golden_...|\n",
      "| 29|Female|    Elenore Choy|    DB| 32877|   39|Billi Clore_Mitzi...|\n",
      "| 28|  Male|  Sheryll Towler|   DSA| 41487|   51|Claude Panos_Judi...|\n",
      "| 28|  Male|  Margene Moores|   MVC| 52771|   42|Toshiko Hillyard_...|\n",
      "| 28|  Male|     Neda Briski|   OOP| 61973|   79|Alberta Freund_El...|\n",
      "| 28|Female|    Claude Panos| Cloud| 72409|   95|Sheryll Towler_Al...|\n",
      "| 28|  Male|  Celeste Lollis|   MVC| 81492|   74|Nicole Harwood_Cl...|\n",
      "| 29|  Male|  Cordie Harnois|   OOP| 92882|   61|Judie Chipps_Clem...|\n",
      "| 29|Female|       Kena Wild|   DSA|102285|   45|Dustin Feagins_Ma...|\n",
      "| 29|  Male| Ernest Rossbach|    DB|111449|   63|Maybell Duguay_Ab...|\n",
      "| 28|Female|  Latia Vanhoose|    DB|122502|   37|Latia Vanhoose_Mi...|\n",
      "| 29|Female|  Latia Vanhoose|   MVC|132110|   65|Eda Neathery_Nico...|\n",
      "| 29|  Male|     Neda Briski|    PF|141770|   52|Margene Moores_Mi...|\n",
      "| 29|Female|  Latia Vanhoose|    DB|152159|   37|Claude Panos_Sant...|\n",
      "| 29|  Male|  Loris Crossett|   MVC|161771|   46|Mitzi Seldon_Jenn...|\n",
      "| 29|  Male|  Annika Hoffman|   OOP|171660|   32|Taryn Brownlee_Mi...|\n",
      "| 29|  Male|   Santa Kerfien|    PF|182129|   66|Judie Chipps_Tary...|\n",
      "| 28|Female|Mickey Cortright|    DB|192537|   72|Ernest Rossbach_M...|\n",
      "+---+------+----------------+------+------+-----+--------------------+\n",
      "only showing top 20 rows\n"
     ]
    }
   ],
   "source": [
    "# Add 10 marks to all students (bonus marks)\n",
    "df_bonus = df_modified.withColumn(\"marks\", col(\"marks\") + 10)\n",
    "print(\"DataFrame after adding 10 bonus marks:\")\n",
    "df_bonus.show()"
   ]
  },
  {
   "cell_type": "markdown",
   "id": "9527e361",
   "metadata": {},
   "source": [
    "### 6.3 Create New Column Based on Existing Column"
   ]
  },
  {
   "cell_type": "code",
   "execution_count": 36,
   "id": "4c3dd1fd",
   "metadata": {},
   "outputs": [
    {
     "name": "stdout",
     "output_type": "stream",
     "text": [
      "DataFrame with new 'final_marks' column:\n",
      "+---+------+----------------+------+------+-----+--------------------+-----------+\n",
      "|age|gender|            name|course|  roll|marks|               email|final_marks|\n",
      "+---+------+----------------+------+------+-----+--------------------+-----------+\n",
      "| 28|Female| Hubert Oliveras|    DB|  2984|   69|Annika Hoffman_Na...|         59|\n",
      "| 29|Female|Toshiko Hillyard| Cloud| 12899|   72|Margene Moores_Ma...|         62|\n",
      "| 28|  Male|  Celeste Lollis|    PF| 21267|   55|Jeannetta Golden_...|         45|\n",
      "| 29|Female|    Elenore Choy|    DB| 32877|   39|Billi Clore_Mitzi...|         29|\n",
      "| 28|  Male|  Sheryll Towler|   DSA| 41487|   51|Claude Panos_Judi...|         41|\n",
      "| 28|  Male|  Margene Moores|   MVC| 52771|   42|Toshiko Hillyard_...|         32|\n",
      "| 28|  Male|     Neda Briski|   OOP| 61973|   79|Alberta Freund_El...|         69|\n",
      "| 28|Female|    Claude Panos| Cloud| 72409|   95|Sheryll Towler_Al...|         85|\n",
      "| 28|  Male|  Celeste Lollis|   MVC| 81492|   74|Nicole Harwood_Cl...|         64|\n",
      "| 29|  Male|  Cordie Harnois|   OOP| 92882|   61|Judie Chipps_Clem...|         51|\n",
      "| 29|Female|       Kena Wild|   DSA|102285|   45|Dustin Feagins_Ma...|         35|\n",
      "| 29|  Male| Ernest Rossbach|    DB|111449|   63|Maybell Duguay_Ab...|         53|\n",
      "| 28|Female|  Latia Vanhoose|    DB|122502|   37|Latia Vanhoose_Mi...|         27|\n",
      "| 29|Female|  Latia Vanhoose|   MVC|132110|   65|Eda Neathery_Nico...|         55|\n",
      "| 29|  Male|     Neda Briski|    PF|141770|   52|Margene Moores_Mi...|         42|\n",
      "| 29|Female|  Latia Vanhoose|    DB|152159|   37|Claude Panos_Sant...|         27|\n",
      "| 29|  Male|  Loris Crossett|   MVC|161771|   46|Mitzi Seldon_Jenn...|         36|\n",
      "| 29|  Male|  Annika Hoffman|   OOP|171660|   32|Taryn Brownlee_Mi...|         22|\n",
      "| 29|  Male|   Santa Kerfien|    PF|182129|   66|Judie Chipps_Tary...|         56|\n",
      "| 28|Female|Mickey Cortright|    DB|192537|   72|Ernest Rossbach_M...|         62|\n",
      "+---+------+----------------+------+------+-----+--------------------+-----------+\n",
      "only showing top 20 rows\n"
     ]
    }
   ],
   "source": [
    "# Create a new column 'final_marks' by subtracting 10 from bonus marks\n",
    "df_final = df_bonus.withColumn(\"final_marks\", col(\"marks\") - 10)\n",
    "print(\"DataFrame with new 'final_marks' column:\")\n",
    "df_final.show()"
   ]
  },
  {
   "cell_type": "markdown",
   "id": "008cae8e",
   "metadata": {},
   "source": [
    "### 6.4 Multiple column additions and modifications"
   ]
  },
  {
   "cell_type": "code",
   "execution_count": null,
   "id": "1db46c3c",
   "metadata": {},
   "outputs": [
    {
     "name": "stdout",
     "output_type": "stream",
     "text": [
      "+---+------+----+------+------+-----+--------------------+-------------+-------+\n",
      "|age|gender|name|course|  roll|marks|               email|updated marks|Country|\n",
      "+---+------+----+------+------+-----+--------------------+-------------+-------+\n",
      "| 28|Female| USA|    DB|  2984|   49|Annika Hoffman_Na...|           69|    USA|\n",
      "| 29|Female| USA| Cloud| 12899|   52|Margene Moores_Ma...|           72|    USA|\n",
      "| 28|  Male| USA|    PF| 21267|   35|Jeannetta Golden_...|           55|    USA|\n",
      "| 29|Female| USA|    DB| 32877|   19|Billi Clore_Mitzi...|           39|    USA|\n",
      "| 28|  Male| USA|   DSA| 41487|   31|Claude Panos_Judi...|           51|    USA|\n",
      "| 28|  Male| USA|   MVC| 52771|   22|Toshiko Hillyard_...|           42|    USA|\n",
      "| 28|  Male| USA|   OOP| 61973|   59|Alberta Freund_El...|           79|    USA|\n",
      "| 28|Female| USA| Cloud| 72409|   75|Sheryll Towler_Al...|           95|    USA|\n",
      "| 28|  Male| USA|   MVC| 81492|   54|Nicole Harwood_Cl...|           74|    USA|\n",
      "| 29|  Male| USA|   OOP| 92882|   41|Judie Chipps_Clem...|           61|    USA|\n",
      "| 29|Female| USA|   DSA|102285|   25|Dustin Feagins_Ma...|           45|    USA|\n",
      "| 29|  Male| USA|    DB|111449|   43|Maybell Duguay_Ab...|           63|    USA|\n",
      "| 28|Female| USA|    DB|122502|   17|Latia Vanhoose_Mi...|           37|    USA|\n",
      "| 29|Female| USA|   MVC|132110|   45|Eda Neathery_Nico...|           65|    USA|\n",
      "| 29|  Male| USA|    PF|141770|   32|Margene Moores_Mi...|           52|    USA|\n",
      "| 29|Female| USA|    DB|152159|   17|Claude Panos_Sant...|           37|    USA|\n",
      "| 29|  Male| USA|   MVC|161771|   26|Mitzi Seldon_Jenn...|           46|    USA|\n",
      "| 29|  Male| USA|   OOP|171660|   12|Taryn Brownlee_Mi...|           32|    USA|\n",
      "| 29|  Male| USA|    PF|182129|   46|Judie Chipps_Tary...|           66|    USA|\n",
      "| 28|Female| USA|    DB|192537|   52|Ernest Rossbach_M...|           72|    USA|\n",
      "+---+------+----+------+------+-----+--------------------+-------------+-------+\n",
      "only showing top 20 rows\n"
     ]
    }
   ],
   "source": [
    "# Multiple column additions and modifications\n",
    "df_enhanced = df_inferred.withColumn(\"name\", lit(\"USA\"))\n",
    "df_enhanced = df_enhanced.withColumn(\"marks\", col(\"marks\") - 10).withColumn(\"updated marks\", col(\"marks\") + 20).withColumn(\"Country\", lit(\"USA\"))\n",
    "df_enhanced.show()"
   ]
  },
  {
   "cell_type": "markdown",
   "id": "b51f3f7e",
   "metadata": {},
   "source": [
    "### 6.5 Rename columns (withColumnRenamed)"
   ]
  },
  {
   "cell_type": "code",
   "execution_count": null,
   "id": "0158ad29",
   "metadata": {},
   "outputs": [
    {
     "name": "stdout",
     "output_type": "stream",
     "text": [
      "+---+------+----+------+-----------+-----+--------------------+-------------+-------+\n",
      "|age|   sex|name|course|roll number|marks|               email|updated marks|Country|\n",
      "+---+------+----+------+-----------+-----+--------------------+-------------+-------+\n",
      "| 28|Female| USA|    DB|       2984|   49|Annika Hoffman_Na...|           69|    USA|\n",
      "| 29|Female| USA| Cloud|      12899|   52|Margene Moores_Ma...|           72|    USA|\n",
      "| 28|  Male| USA|    PF|      21267|   35|Jeannetta Golden_...|           55|    USA|\n",
      "| 29|Female| USA|    DB|      32877|   19|Billi Clore_Mitzi...|           39|    USA|\n",
      "| 28|  Male| USA|   DSA|      41487|   31|Claude Panos_Judi...|           51|    USA|\n",
      "| 28|  Male| USA|   MVC|      52771|   22|Toshiko Hillyard_...|           42|    USA|\n",
      "| 28|  Male| USA|   OOP|      61973|   59|Alberta Freund_El...|           79|    USA|\n",
      "| 28|Female| USA| Cloud|      72409|   75|Sheryll Towler_Al...|           95|    USA|\n",
      "| 28|  Male| USA|   MVC|      81492|   54|Nicole Harwood_Cl...|           74|    USA|\n",
      "| 29|  Male| USA|   OOP|      92882|   41|Judie Chipps_Clem...|           61|    USA|\n",
      "| 29|Female| USA|   DSA|     102285|   25|Dustin Feagins_Ma...|           45|    USA|\n",
      "| 29|  Male| USA|    DB|     111449|   43|Maybell Duguay_Ab...|           63|    USA|\n",
      "| 28|Female| USA|    DB|     122502|   17|Latia Vanhoose_Mi...|           37|    USA|\n",
      "| 29|Female| USA|   MVC|     132110|   45|Eda Neathery_Nico...|           65|    USA|\n",
      "| 29|  Male| USA|    PF|     141770|   32|Margene Moores_Mi...|           52|    USA|\n",
      "| 29|Female| USA|    DB|     152159|   17|Claude Panos_Sant...|           37|    USA|\n",
      "| 29|  Male| USA|   MVC|     161771|   26|Mitzi Seldon_Jenn...|           46|    USA|\n",
      "| 29|  Male| USA|   OOP|     171660|   12|Taryn Brownlee_Mi...|           32|    USA|\n",
      "| 29|  Male| USA|    PF|     182129|   46|Judie Chipps_Tary...|           66|    USA|\n",
      "| 28|Female| USA|    DB|     192537|   52|Ernest Rossbach_M...|           72|    USA|\n",
      "+---+------+----+------+-----------+-----+--------------------+-------------+-------+\n",
      "only showing top 20 rows\n"
     ]
    }
   ],
   "source": [
    "# Rename columns\n",
    "df_withColumnRenamed = df_enhanced.withColumnRenamed(\"gender\", \"sex\").withColumnRenamed(\"roll\", \"roll number\")\n",
    "df_withColumnRenamed.show()"
   ]
  },
  {
   "cell_type": "code",
   "execution_count": null,
   "id": "63c1bfe9",
   "metadata": {},
   "outputs": [
    {
     "name": "stdout",
     "output_type": "stream",
     "text": [
      "+----------------+\n",
      "|       Full Name|\n",
      "+----------------+\n",
      "| Hubert Oliveras|\n",
      "|Toshiko Hillyard|\n",
      "|  Celeste Lollis|\n",
      "|    Elenore Choy|\n",
      "|  Sheryll Towler|\n",
      "|  Margene Moores|\n",
      "|     Neda Briski|\n",
      "|    Claude Panos|\n",
      "|  Celeste Lollis|\n",
      "|  Cordie Harnois|\n",
      "|       Kena Wild|\n",
      "| Ernest Rossbach|\n",
      "|  Latia Vanhoose|\n",
      "|  Latia Vanhoose|\n",
      "|     Neda Briski|\n",
      "|  Latia Vanhoose|\n",
      "|  Loris Crossett|\n",
      "|  Annika Hoffman|\n",
      "|   Santa Kerfien|\n",
      "|Mickey Cortright|\n",
      "+----------------+\n",
      "only showing top 20 rows\n"
     ]
    }
   ],
   "source": [
    "# Rename columns using alias\n",
    "df_final.select(col(\"name\").alias(\"Full Name\")).show()"
   ]
  },
  {
   "cell_type": "markdown",
   "id": "9705479e",
   "metadata": {},
   "source": [
    "## 7. Row Filtering"
   ]
  },
  {
   "cell_type": "markdown",
   "id": "ee9757c4",
   "metadata": {},
   "source": [
    "### 7.1 Basic Filtering"
   ]
  },
  {
   "cell_type": "code",
   "execution_count": null,
   "id": "ae2b0f3b",
   "metadata": {},
   "outputs": [
    {
     "name": "stdout",
     "output_type": "stream",
     "text": [
      "+---+------+-----------------+------+-------+-----+--------------------+\n",
      "|age|gender|             name|course|   roll|marks|               email|\n",
      "+---+------+-----------------+------+-------+-----+--------------------+\n",
      "| 28|Female|  Hubert Oliveras|    DB|  02984|   59|Annika Hoffman_Na...|\n",
      "| 29|Female|     Elenore Choy|    DB|  32877|   29|Billi Clore_Mitzi...|\n",
      "| 29|  Male|  Ernest Rossbach|    DB| 111449|   53|Maybell Duguay_Ab...|\n",
      "| 28|Female|   Latia Vanhoose|    DB| 122502|   27|Latia Vanhoose_Mi...|\n",
      "| 29|Female|   Latia Vanhoose|    DB| 152159|   27|Claude Panos_Sant...|\n",
      "| 28|Female| Mickey Cortright|    DB| 192537|   62|Ernest Rossbach_M...|\n",
      "| 28|Female|      Anna Santos|    DB| 311589|   79|Celeste Lollis_Mi...|\n",
      "| 28|  Male|    Kizzy Brenner|    DB| 381712|   36|Paris Hutton_Kena...|\n",
      "| 28|  Male| Toshiko Hillyard|    DB| 392218|   47|Leontine Phillips...|\n",
      "| 29|  Male|     Paris Hutton|    DB| 481229|   57|Clementina Menke_...|\n",
      "| 28|Female| Mickey Cortright|    DB| 551389|   43|Tijuana Kropf_Jen...|\n",
      "| 28|Female|Leontine Phillips|    DB| 602404|   48|Neda Briski_Cheri...|\n",
      "| 28|Female|  Hubert Oliveras|    DB| 771081|   79|Kizzy Brenner_Dus...|\n",
      "| 29|Female|     Elenore Choy|    DB| 811824|   55|Maybell Duguay_Me...|\n",
      "| 29|  Male| Clementina Menke|    DB| 882200|   76|Michelle Ruggiero...|\n",
      "| 29|Female|  Sebrina Maresca|    DB| 922210|   54|Toshiko Hillyard_...|\n",
      "| 29|  Male|     Naoma Fritts|    DB| 931295|   79|Hubert Oliveras_S...|\n",
      "| 28|  Male|   Annika Hoffman|    DB|1031544|   44|Dustin Feagins_So...|\n",
      "| 28|  Male|   Nicole Harwood|    DB|1211495|   28|Melani Engberg_Jc...|\n",
      "| 29|Female|     Claude Panos|    DB|1222887|   75|Hubert Oliveras_S...|\n",
      "+---+------+-----------------+------+-------+-----+--------------------+\n",
      "only showing top 20 rows\n"
     ]
    }
   ],
   "source": [
    "df.filter(df.course == \"DB\").show()"
   ]
  },
  {
   "cell_type": "code",
   "execution_count": null,
   "id": "d20aa52a",
   "metadata": {},
   "outputs": [
    {
     "name": "stdout",
     "output_type": "stream",
     "text": [
      "+---+------+-----------------+------+-------+-----+--------------------+\n",
      "|age|gender|             name|course|   roll|marks|               email|\n",
      "+---+------+-----------------+------+-------+-----+--------------------+\n",
      "| 28|Female|  Hubert Oliveras|    DB|  02984|   59|Annika Hoffman_Na...|\n",
      "| 29|Female|     Elenore Choy|    DB|  32877|   29|Billi Clore_Mitzi...|\n",
      "| 29|  Male|  Ernest Rossbach|    DB| 111449|   53|Maybell Duguay_Ab...|\n",
      "| 28|Female|   Latia Vanhoose|    DB| 122502|   27|Latia Vanhoose_Mi...|\n",
      "| 29|Female|   Latia Vanhoose|    DB| 152159|   27|Claude Panos_Sant...|\n",
      "| 28|Female| Mickey Cortright|    DB| 192537|   62|Ernest Rossbach_M...|\n",
      "| 28|Female|      Anna Santos|    DB| 311589|   79|Celeste Lollis_Mi...|\n",
      "| 28|  Male|    Kizzy Brenner|    DB| 381712|   36|Paris Hutton_Kena...|\n",
      "| 28|  Male| Toshiko Hillyard|    DB| 392218|   47|Leontine Phillips...|\n",
      "| 29|  Male|     Paris Hutton|    DB| 481229|   57|Clementina Menke_...|\n",
      "| 28|Female| Mickey Cortright|    DB| 551389|   43|Tijuana Kropf_Jen...|\n",
      "| 28|Female|Leontine Phillips|    DB| 602404|   48|Neda Briski_Cheri...|\n",
      "| 28|Female|  Hubert Oliveras|    DB| 771081|   79|Kizzy Brenner_Dus...|\n",
      "| 29|Female|     Elenore Choy|    DB| 811824|   55|Maybell Duguay_Me...|\n",
      "| 29|  Male| Clementina Menke|    DB| 882200|   76|Michelle Ruggiero...|\n",
      "| 29|Female|  Sebrina Maresca|    DB| 922210|   54|Toshiko Hillyard_...|\n",
      "| 29|  Male|     Naoma Fritts|    DB| 931295|   79|Hubert Oliveras_S...|\n",
      "| 28|  Male|   Annika Hoffman|    DB|1031544|   44|Dustin Feagins_So...|\n",
      "| 28|  Male|   Nicole Harwood|    DB|1211495|   28|Melani Engberg_Jc...|\n",
      "| 29|Female|     Claude Panos|    DB|1222887|   75|Hubert Oliveras_S...|\n",
      "+---+------+-----------------+------+-------+-----+--------------------+\n",
      "only showing top 20 rows\n"
     ]
    }
   ],
   "source": [
    "df.filter(col(\"course\") == \"DB\").show()"
   ]
  },
  {
   "cell_type": "markdown",
   "id": "0b71e6a7",
   "metadata": {},
   "source": [
    "### 7.2 Filtering with specific cases"
   ]
  },
  {
   "cell_type": "code",
   "execution_count": null,
   "id": "f58d9094",
   "metadata": {},
   "outputs": [
    {
     "name": "stdout",
     "output_type": "stream",
     "text": [
      "+---+------+----------------+------+------+-----+--------------------+\n",
      "|age|gender|            name|course|  roll|marks|               email|\n",
      "+---+------+----------------+------+------+-----+--------------------+\n",
      "| 28|Female| Hubert Oliveras|    DB| 02984|   59|Annika Hoffman_Na...|\n",
      "| 29|Female|Toshiko Hillyard| Cloud| 12899|   62|Margene Moores_Ma...|\n",
      "| 29|Female|    Elenore Choy|    DB| 32877|   29|Billi Clore_Mitzi...|\n",
      "| 28|  Male|  Sheryll Towler|   DSA| 41487|   41|Claude Panos_Judi...|\n",
      "| 28|  Male|     Neda Briski|   OOP| 61973|   69|Alberta Freund_El...|\n",
      "| 28|Female|    Claude Panos| Cloud| 72409|   85|Sheryll Towler_Al...|\n",
      "| 29|  Male|  Cordie Harnois|   OOP| 92882|   51|Judie Chipps_Clem...|\n",
      "| 29|Female|       Kena Wild|   DSA|102285|   35|Dustin Feagins_Ma...|\n",
      "| 29|  Male| Ernest Rossbach|    DB|111449|   53|Maybell Duguay_Ab...|\n",
      "| 28|Female|  Latia Vanhoose|    DB|122502|   27|Latia Vanhoose_Mi...|\n",
      "| 29|Female|  Latia Vanhoose|    DB|152159|   27|Claude Panos_Sant...|\n",
      "| 29|  Male|  Annika Hoffman|   OOP|171660|   22|Taryn Brownlee_Mi...|\n",
      "| 28|Female|Mickey Cortright|    DB|192537|   62|Ernest Rossbach_M...|\n",
      "| 28|Female|       Kena Wild| Cloud|221750|   60|Mitzi Seldon_Jenn...|\n",
      "| 28|Female|    Jc Andrepont|   DSA|232060|   58|Billi Clore_Abram...|\n",
      "| 29|Female|     Anna Santos| Cloud|242254|   68|Jc Andrepont_Hube...|\n",
      "| 28|Female|  Alberta Freund|   OOP|251805|   83|Annika Hoffman_Sh...|\n",
      "| 28|Female|  Maybell Duguay| Cloud|261439|   20|Nicole Harwood_Ju...|\n",
      "| 29|Female|    Paris Hutton|   DSA|271472|   99|Sheryll Towler_Al...|\n",
      "| 29|Female|    Cheri Kenney| Cloud|281408|   43|Annika Hoffman_Me...|\n",
      "+---+------+----------------+------+------+-----+--------------------+\n",
      "only showing top 20 rows\n"
     ]
    }
   ],
   "source": [
    "courses = [\"DB\", \"Cloud\", \"OOP\", \"DSA\"]\n",
    "df.filter(df.course.isin(courses)).show()"
   ]
  },
  {
   "cell_type": "code",
   "execution_count": 50,
   "id": "ce174f99",
   "metadata": {},
   "outputs": [
    {
     "name": "stdout",
     "output_type": "stream",
     "text": [
      "+---+------+----------------+------+------+-----+--------------------+\n",
      "|age|gender|            name|course|  roll|marks|               email|\n",
      "+---+------+----------------+------+------+-----+--------------------+\n",
      "| 28|Female| Hubert Oliveras|    DB| 02984|   59|Annika Hoffman_Na...|\n",
      "| 29|Female|    Elenore Choy|    DB| 32877|   29|Billi Clore_Mitzi...|\n",
      "| 28|  Male|  Sheryll Towler|   DSA| 41487|   41|Claude Panos_Judi...|\n",
      "| 29|Female|       Kena Wild|   DSA|102285|   35|Dustin Feagins_Ma...|\n",
      "| 29|  Male| Ernest Rossbach|    DB|111449|   53|Maybell Duguay_Ab...|\n",
      "| 28|Female|  Latia Vanhoose|    DB|122502|   27|Latia Vanhoose_Mi...|\n",
      "| 29|Female|  Latia Vanhoose|    DB|152159|   27|Claude Panos_Sant...|\n",
      "| 28|Female|Mickey Cortright|    DB|192537|   62|Ernest Rossbach_M...|\n",
      "| 28|Female|    Jc Andrepont|   DSA|232060|   58|Billi Clore_Abram...|\n",
      "| 29|Female|    Paris Hutton|   DSA|271472|   99|Sheryll Towler_Al...|\n",
      "| 28|Female|  Dustin Feagins|   DSA|291984|   82|Abram Nagao_Kena ...|\n",
      "| 28|Female|     Anna Santos|    DB|311589|   79|Celeste Lollis_Mi...|\n",
      "| 28|Female|Mickey Cortright|   DSA|342003|   44|Mitzi Seldon_Jean...|\n",
      "| 28|  Male|   Kizzy Brenner|    DB|381712|   36|Paris Hutton_Kena...|\n",
      "| 28|  Male|Toshiko Hillyard|    DB|392218|   47|Leontine Phillips...|\n",
      "| 29|Female|     Anna Santos|   DSA|411479|   42|Kena Wild_Mitzi S...|\n",
      "| 28|Female|  Maybell Duguay|   DSA|452141|   29|Leontine Phillips...|\n",
      "| 29|  Male|    Paris Hutton|    DB|481229|   57|Clementina Menke_...|\n",
      "| 29|Female|    Paris Hutton|   DSA|492159|   60|Nicole Harwood_Ma...|\n",
      "| 28|Female|Mickey Cortright|    DB|551389|   43|Tijuana Kropf_Jen...|\n",
      "+---+------+----------------+------+------+-----+--------------------+\n",
      "only showing top 20 rows\n"
     ]
    }
   ],
   "source": [
    "df.filter(df.course.startswith(\"D\")).show()"
   ]
  },
  {
   "cell_type": "code",
   "execution_count": 51,
   "id": "9a901c38",
   "metadata": {},
   "outputs": [
    {
     "name": "stdout",
     "output_type": "stream",
     "text": [
      "+---+------+----------------+------+-------+-----+--------------------+\n",
      "|age|gender|            name|course|   roll|marks|               email|\n",
      "+---+------+----------------+------+-------+-----+--------------------+\n",
      "| 28|  Male|  Sheryll Towler|   DSA|  41487|   41|Claude Panos_Judi...|\n",
      "| 29|Female|       Kena Wild|   DSA| 102285|   35|Dustin Feagins_Ma...|\n",
      "| 28|Female|    Jc Andrepont|   DSA| 232060|   58|Billi Clore_Abram...|\n",
      "| 29|Female|    Paris Hutton|   DSA| 271472|   99|Sheryll Towler_Al...|\n",
      "| 28|Female|  Dustin Feagins|   DSA| 291984|   82|Abram Nagao_Kena ...|\n",
      "| 28|Female|Mickey Cortright|   DSA| 342003|   44|Mitzi Seldon_Jean...|\n",
      "| 29|Female|     Anna Santos|   DSA| 411479|   42|Kena Wild_Mitzi S...|\n",
      "| 28|Female|  Maybell Duguay|   DSA| 452141|   29|Leontine Phillips...|\n",
      "| 29|Female|    Paris Hutton|   DSA| 492159|   60|Nicole Harwood_Ma...|\n",
      "| 29|  Male|  Celeste Lollis|   DSA| 562065|   85|Jc Andrepont_Mela...|\n",
      "| 29|  Male|  Maybell Duguay|   DSA| 592061|   83|Eda Neathery_Jenn...|\n",
      "| 28|  Male|    Mitzi Seldon|   DSA| 622981|   45|Lawanda Wohlwend_...|\n",
      "| 28|Female|  Jenna Montague|   DSA| 691564|   26|Mitzi Seldon_Sebr...|\n",
      "| 28|Female|  Celeste Lollis|   DSA| 731879|   76|Hubert Oliveras_G...|\n",
      "| 28|  Male|  Sheryll Towler|   DSA| 831562|   59|Kena Wild_Gonzalo...|\n",
      "| 28|Female|  Sheryll Towler|   DSA| 871967|   64|Michelle Ruggiero...|\n",
      "| 28|  Male|  Margene Moores|   DSA| 892010|   93|Anna Santos_Naoma...|\n",
      "| 28|Female|  Somer Stoecker|   DSA| 901958|   64|Kizzy Brenner_Jc ...|\n",
      "| 28|Female|Lawanda Wohlwend|   DSA| 951686|   60|Loris Crossett_Ni...|\n",
      "| 28|  Male|  Jenna Montague|   DSA|1002103|   36|Melani Engberg_Hu...|\n",
      "+---+------+----------------+------+-------+-----+--------------------+\n",
      "only showing top 20 rows\n"
     ]
    }
   ],
   "source": [
    "df.filter(df.course.endswith(\"A\")).show()"
   ]
  },
  {
   "cell_type": "code",
   "execution_count": 54,
   "id": "4afa9461",
   "metadata": {},
   "outputs": [
    {
     "name": "stdout",
     "output_type": "stream",
     "text": [
      "+---+------+--------------+------+-------+-----+--------------------+\n",
      "|age|gender|          name|course|   roll|marks|               email|\n",
      "+---+------+--------------+------+-------+-----+--------------------+\n",
      "| 28|Female|Latia Vanhoose|    DB| 122502|   27|Latia Vanhoose_Mi...|\n",
      "| 29|Female|Latia Vanhoose|   MVC| 132110|   55|Eda Neathery_Nico...|\n",
      "| 29|Female|Latia Vanhoose|    DB| 152159|   27|Claude Panos_Sant...|\n",
      "| 29|  Male|Loris Crossett|   MVC| 161771|   36|Mitzi Seldon_Jenn...|\n",
      "| 29|Female|Loris Crossett|    PF| 201487|   96|Elenore Choy_Lati...|\n",
      "| 28|Female|Loris Crossett|    PF| 332739|   62|Michelle Ruggiero...|\n",
      "| 29|  Male|Loris Crossett|    PF| 911593|   46|Gonzalo Ferebee_M...|\n",
      "| 28|Female|Loris Crossett|   DSA|1662549|   86|Paris Hutton_Lati...|\n",
      "| 29|  Male|Latia Vanhoose| Cloud|1832268|   60|Marylee Capasso_S...|\n",
      "| 29|  Male|Latia Vanhoose|   OOP|2372748|   94|Latia Vanhoose_La...|\n",
      "| 28|Female|Loris Crossett|   OOP|2691881|   29|Maybell Duguay_Ni...|\n",
      "| 28|  Male|Loris Crossett|   OOP|2852490|   25|Loris Crossett_Do...|\n",
      "| 29|Female|Latia Vanhoose|    PF|2861854|   42|Claude Panos_Nico...|\n",
      "| 29|  Male|Latia Vanhoose|   MVC|2992281|   90|Elenore Choy_Cord...|\n",
      "| 29|Female|Latia Vanhoose|   MVC|3091650|   30|Cordie Harnois_Se...|\n",
      "| 28|Female|Loris Crossett|   OOP|3502780|   30|Jenna Montague_Co...|\n",
      "| 28|Female|Loris Crossett|    PF|3531684|   84|Dustin Feagins_Ta...|\n",
      "| 29|  Male|Loris Crossett|   OOP|3592529|   80|Annika Hoffman_To...|\n",
      "| 29|Female|Latia Vanhoose|   OOP|3841395|   26|Kizzy Brenner_Eda...|\n",
      "| 28|Female|Loris Crossett|    PF|3861248|   94|Dustin Feagins_Ch...|\n",
      "+---+------+--------------+------+-------+-----+--------------------+\n",
      "only showing top 20 rows\n",
      "+---+------+------------------+------+-------+-----+--------------------+\n",
      "|age|gender|              name|course|   roll|marks|               email|\n",
      "+---+------+------------------+------+-------+-----+--------------------+\n",
      "| 28|  Male|    Celeste Lollis|    PF|  21267|   45|Jeannetta Golden_...|\n",
      "| 28|  Male|    Celeste Lollis|   MVC|  81492|   64|Nicole Harwood_Cl...|\n",
      "| 28|Female|    Latia Vanhoose|    DB| 122502|   27|Latia Vanhoose_Mi...|\n",
      "| 29|Female|    Latia Vanhoose|   MVC| 132110|   55|Eda Neathery_Nico...|\n",
      "| 29|Female|    Latia Vanhoose|    DB| 152159|   27|Claude Panos_Sant...|\n",
      "| 29|  Male|    Loris Crossett|   MVC| 161771|   36|Mitzi Seldon_Jenn...|\n",
      "| 29|Female|    Loris Crossett|    PF| 201487|   96|Elenore Choy_Lati...|\n",
      "| 28|Female|    Dustin Feagins|   DSA| 291984|   82|Abram Nagao_Kena ...|\n",
      "| 28|Female|    Loris Crossett|    PF| 332739|   62|Michelle Ruggiero...|\n",
      "| 29|  Male|    Jalisa Swenson|    PF| 372873|   45|Ernest Rossbach_T...|\n",
      "| 28|Female|    Jalisa Swenson|   OOP| 431352|   25|Gonzalo Ferebee_J...|\n",
      "| 28|  Male|    Dustin Feagins|    PF| 461839|   51|Neda Briski_Eleno...|\n",
      "| 29|  Male|    Celeste Lollis|   DSA| 562065|   85|Jc Andrepont_Mela...|\n",
      "| 28|  Male|Priscila Tavernier|    PF| 642594|   27|Marylee Capasso_C...|\n",
      "| 28|Female|    Celeste Lollis|   DSA| 731879|   76|Hubert Oliveras_G...|\n",
      "| 29|  Male|    Loris Crossett|    PF| 911593|   46|Gonzalo Ferebee_M...|\n",
      "| 29|Female|    Dustin Feagins|   OOP|1161607|   37|Eda Neathery_Mary...|\n",
      "| 28|  Male|    Jalisa Swenson|    PF|1192555|   77|Marylee Capasso_C...|\n",
      "| 29|  Male|    Jalisa Swenson| Cloud|1261533|   70|Dustin Feagins_Ni...|\n",
      "| 29|  Male|    Jalisa Swenson|    PF|1332072|   88|Billi Clore_Kizzy...|\n",
      "+---+------+------------------+------+-------+-----+--------------------+\n",
      "only showing top 20 rows\n"
     ]
    }
   ],
   "source": [
    "df.filter(df.name.contains(\"se\")).show()\n",
    "df.filter(df.name.like('%s%e%')).show()"
   ]
  },
  {
   "cell_type": "markdown",
   "id": "98d499ae",
   "metadata": {},
   "source": [
    "<!-- ## 7. Summary and Best Practices\n",
    "\n",
    "### Key Takeaways:\n",
    "\n",
    "1. **Reading CSV Files**: Use `inferSchema='True'` for automatic type detection, or define custom schemas for better control\n",
    "2. **Schema Definition**: Explicitly defining schemas improves performance and data quality\n",
    "3. **RDD to DataFrame**: Use `createDataFrame()` with a schema for converting RDDs to DataFrames\n",
    "4. **Column Selection**: Use `col()` function for most operations as it's the most flexible approach\n",
    "5. **withColumn**: Immutable operation - always returns a new DataFrame\n",
    "\n",
    "### Performance Tips:\n",
    "- Define schemas explicitly when possible to avoid schema inference overhead\n",
    "- Chain multiple `withColumn()` operations for better readability\n",
    "- Use `select()` to reduce the dataset size early in your pipeline -->"
   ]
  },
  {
   "cell_type": "markdown",
   "id": "de68bfd8",
   "metadata": {},
   "source": [
    "<!-- ## 8. Cleanup\n",
    "\n",
    "Stop the Spark session when done. -->"
   ]
  },
  {
   "cell_type": "code",
   "execution_count": null,
   "id": "ec9adbd3",
   "metadata": {},
   "outputs": [],
   "source": [
    "# # Uncomment the following line to stop the Spark session\n",
    "# # spark.stop()\n",
    "# print(\"Remember to stop the Spark session when you're done!\")"
   ]
  }
 ],
 "metadata": {
  "kernelspec": {
   "display_name": "Python 3",
   "language": "python",
   "name": "python3"
  },
  "language_info": {
   "codemirror_mode": {
    "name": "ipython",
    "version": 3
   },
   "file_extension": ".py",
   "mimetype": "text/x-python",
   "name": "python",
   "nbconvert_exporter": "python",
   "pygments_lexer": "ipython3",
   "version": "3.11.9"
  }
 },
 "nbformat": 4,
 "nbformat_minor": 5
}
