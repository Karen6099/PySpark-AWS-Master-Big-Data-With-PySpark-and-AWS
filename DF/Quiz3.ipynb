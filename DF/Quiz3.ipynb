{
 "cells": [
  {
   "cell_type": "code",
   "execution_count": 1,
   "id": "b8b78fcc",
   "metadata": {},
   "outputs": [
    {
     "name": "stdout",
     "output_type": "stream",
     "text": [
      "Spark Session Created Successfully!\n",
      "Basic DataFrame loaded:\n",
      "+---+------+----------------+------+------+-----+--------------------+\n",
      "|age|gender|            name|course|  roll|marks|               email|\n",
      "+---+------+----------------+------+------+-----+--------------------+\n",
      "| 28|Female| Hubert Oliveras|    DB| 02984|   59|Annika Hoffman_Na...|\n",
      "| 29|Female|Toshiko Hillyard| Cloud| 12899|   62|Margene Moores_Ma...|\n",
      "| 28|  Male|  Celeste Lollis|    PF| 21267|   45|Jeannetta Golden_...|\n",
      "| 29|Female|    Elenore Choy|    DB| 32877|   29|Billi Clore_Mitzi...|\n",
      "| 28|  Male|  Sheryll Towler|   DSA| 41487|   41|Claude Panos_Judi...|\n",
      "| 28|  Male|  Margene Moores|   MVC| 52771|   32|Toshiko Hillyard_...|\n",
      "| 28|  Male|     Neda Briski|   OOP| 61973|   69|Alberta Freund_El...|\n",
      "| 28|Female|    Claude Panos| Cloud| 72409|   85|Sheryll Towler_Al...|\n",
      "| 28|  Male|  Celeste Lollis|   MVC| 81492|   64|Nicole Harwood_Cl...|\n",
      "| 29|  Male|  Cordie Harnois|   OOP| 92882|   51|Judie Chipps_Clem...|\n",
      "| 29|Female|       Kena Wild|   DSA|102285|   35|Dustin Feagins_Ma...|\n",
      "| 29|  Male| Ernest Rossbach|    DB|111449|   53|Maybell Duguay_Ab...|\n",
      "| 28|Female|  Latia Vanhoose|    DB|122502|   27|Latia Vanhoose_Mi...|\n",
      "| 29|Female|  Latia Vanhoose|   MVC|132110|   55|Eda Neathery_Nico...|\n",
      "| 29|  Male|     Neda Briski|    PF|141770|   42|Margene Moores_Mi...|\n",
      "| 29|Female|  Latia Vanhoose|    DB|152159|   27|Claude Panos_Sant...|\n",
      "| 29|  Male|  Loris Crossett|   MVC|161771|   36|Mitzi Seldon_Jenn...|\n",
      "| 29|  Male|  Annika Hoffman|   OOP|171660|   22|Taryn Brownlee_Mi...|\n",
      "| 29|  Male|   Santa Kerfien|    PF|182129|   56|Judie Chipps_Tary...|\n",
      "| 28|Female|Mickey Cortright|    DB|192537|   62|Ernest Rossbach_M...|\n",
      "+---+------+----------------+------+------+-----+--------------------+\n",
      "only showing top 20 rows\n"
     ]
    }
   ],
   "source": [
    "from pyspark.sql import SparkSession\n",
    "from pyspark.sql.types import StructType, StructField, IntegerType, StringType\n",
    "from pyspark.sql.functions import col, lit\n",
    "\n",
    "# Create Spark session\n",
    "spark = SparkSession.builder.appName(\"Quiz3\").getOrCreate()\n",
    "print(\"Spark Session Created Successfully!\")\n",
    "\n",
    "# Read CSV file with header\n",
    "df = spark.read.options(header='True').csv(\"StudentData.csv\")\n",
    "print(\"Basic DataFrame loaded:\")\n",
    "df.show()"
   ]
  },
  {
   "cell_type": "code",
   "execution_count": 2,
   "id": "de742578",
   "metadata": {},
   "outputs": [
    {
     "name": "stdout",
     "output_type": "stream",
     "text": [
      "Total number of students enrolled in each course:\n",
      "+------+-----+\n",
      "|course|count|\n",
      "+------+-----+\n",
      "|    PF|  166|\n",
      "|    DB|  157|\n",
      "|   MVC|  157|\n",
      "|   DSA|  176|\n",
      "| Cloud|  192|\n",
      "|   OOP|  152|\n",
      "+------+-----+\n",
      "\n"
     ]
    }
   ],
   "source": [
    "# total number of students enrolled in each course\n",
    "course_count_df = df.groupBy(\"course\").count()\n",
    "print(\"Total number of students enrolled in each course:\")\n",
    "course_count_df.show()"
   ]
  },
  {
   "cell_type": "code",
   "execution_count": 3,
   "id": "e17c6151",
   "metadata": {},
   "outputs": [
    {
     "name": "stdout",
     "output_type": "stream",
     "text": [
      "Total number of male and female students in each course:\n",
      "+------+------+-----+\n",
      "|course|gender|count|\n",
      "+------+------+-----+\n",
      "|   OOP|  Male|   70|\n",
      "|    DB|  Male|   82|\n",
      "| Cloud|Female|  106|\n",
      "|   MVC|  Male|   86|\n",
      "|   DSA|Female|   98|\n",
      "|    PF|  Male|   97|\n",
      "|   MVC|Female|   71|\n",
      "| Cloud|  Male|   86|\n",
      "|    PF|Female|   69|\n",
      "|   DSA|  Male|   78|\n",
      "|    DB|Female|   75|\n",
      "|   OOP|Female|   82|\n",
      "+------+------+-----+\n",
      "\n"
     ]
    }
   ],
   "source": [
    "# total number of male and female students in each course\n",
    "gender_course_count_df = df.groupBy(\"course\", \"gender\").count()\n",
    "print(\"Total number of male and female students in each course:\")\n",
    "gender_course_count_df.show()"
   ]
  },
  {
   "cell_type": "code",
   "execution_count": 9,
   "id": "a16dfaaa",
   "metadata": {},
   "outputs": [
    {
     "name": "stdout",
     "output_type": "stream",
     "text": [
      "Total marks achieved in each course by gender:\n",
      "+------+------+----------+\n",
      "|course|gender|sum(marks)|\n",
      "+------+------+----------+\n",
      "|   OOP|  Male|      4234|\n",
      "|    DB|  Male|      5073|\n",
      "| Cloud|Female|      6316|\n",
      "|   MVC|  Male|      5241|\n",
      "|   DSA|Female|      6124|\n",
      "|    PF|  Male|      5960|\n",
      "|   MVC|Female|      4344|\n",
      "| Cloud|  Male|      5127|\n",
      "|    PF|Female|      3973|\n",
      "|   DSA|  Male|      4826|\n",
      "|    DB|Female|      4197|\n",
      "|   OOP|Female|      4682|\n",
      "+------+------+----------+\n",
      "\n"
     ]
    }
   ],
   "source": [
    "# total marks achieved in each course by gender\n",
    "df_with_int_marks = df.withColumn(\"marks\", col(\"marks\").cast(\"int\"))\n",
    "marks_course_gender_df = df_with_int_marks.groupBy(\"course\", \"gender\").sum(\"marks\")\n",
    "print(\"Total marks achieved in each course by gender:\")\n",
    "marks_course_gender_df.show()"
   ]
  },
  {
   "cell_type": "code",
   "execution_count": 10,
   "id": "712153f4",
   "metadata": {},
   "outputs": [
    {
     "name": "stdout",
     "output_type": "stream",
     "text": [
      "Min, Max and Average marks achieved in each course by each age group:\n",
      "+------+---+------------------+\n",
      "|course|age|        avg(marks)|\n",
      "+------+---+------------------+\n",
      "|   MVC| 29| 61.56470588235294|\n",
      "| Cloud| 29|             61.25|\n",
      "|   DSA| 28|  64.6867469879518|\n",
      "|    DB| 29|59.346666666666664|\n",
      "|    PF| 28| 63.75949367088607|\n",
      "|    DB| 28| 58.76829268292683|\n",
      "|   OOP| 29|59.729729729729726|\n",
      "|   DSA| 29| 60.01075268817204|\n",
      "|   OOP| 28| 57.64102564102564|\n",
      "|    PF| 29|56.275862068965516|\n",
      "| Cloud| 28|             58.08|\n",
      "|   MVC| 28| 60.44444444444444|\n",
      "+------+---+------------------+\n",
      "\n"
     ]
    }
   ],
   "source": [
    "# min and max and average marks achieved in each course by each age group\n",
    "age_course_stats_df = df_with_int_marks.groupBy(\"course\", \"age\").agg(\n",
    "    {\"marks\": \"min\", \"marks\": \"max\", \"marks\": \"avg\"}\n",
    ")\n",
    "print(\"Min, Max and Average marks achieved in each course by each age group:\")\n",
    "age_course_stats_df.show()"
   ]
  }
 ],
 "metadata": {
  "kernelspec": {
   "display_name": "Python 3",
   "language": "python",
   "name": "python3"
  },
  "language_info": {
   "codemirror_mode": {
    "name": "ipython",
    "version": 3
   },
   "file_extension": ".py",
   "mimetype": "text/x-python",
   "name": "python",
   "nbconvert_exporter": "python",
   "pygments_lexer": "ipython3",
   "version": "3.11.9"
  }
 },
 "nbformat": 4,
 "nbformat_minor": 5
}
