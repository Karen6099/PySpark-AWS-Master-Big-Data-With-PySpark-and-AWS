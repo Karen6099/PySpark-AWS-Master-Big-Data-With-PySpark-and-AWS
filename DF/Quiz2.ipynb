{
 "cells": [
  {
   "cell_type": "code",
   "execution_count": 13,
   "id": "9ac3bd31",
   "metadata": {},
   "outputs": [
    {
     "name": "stdout",
     "output_type": "stream",
     "text": [
      "Spark Session Created Successfully!\n",
      "Basic DataFrame loaded:\n",
      "+-------------+----------+-----+------+---+-----+\n",
      "|employee_name|department|state|salary|age|bonus|\n",
      "+-------------+----------+-----+------+---+-----+\n",
      "|        James|     Sales|   NY| 90000| 34|10000|\n",
      "|      Michael|     Sales|   NY| 86000| 56|20000|\n",
      "|       Robert|     Sales|   CA| 81000| 30|23000|\n",
      "|        Maria|   Finance|   CA| 90000| 24|23000|\n",
      "|        Raman|   Finance|   CA| 99000| 40|24000|\n",
      "|        Scott|   Finance|   NY| 83000| 36|19000|\n",
      "|          Jen|   Finance|   NY| 79000| 53|15000|\n",
      "|         Jeff| Marketing|   CA| 80000| 25|18000|\n",
      "|        Kumar| Marketing|   NY| 91000| 50|21000|\n",
      "+-------------+----------+-----+------+---+-----+\n",
      "\n"
     ]
    }
   ],
   "source": [
    "from pyspark.sql import SparkSession\n",
    "from pyspark.sql.types import StructType, StructField, IntegerType, StringType\n",
    "from pyspark.sql.functions import col, lit, when\n",
    "\n",
    "# Create Spark session\n",
    "spark = SparkSession.builder.appName(\"Quiz2\").getOrCreate()\n",
    "print(\"Spark Session Created Successfully!\")\n",
    "\n",
    "# Read CSV file with header\n",
    "df = spark.read.options(header='True').csv(\"OfficeData.csv\")\n",
    "print(\"Basic DataFrame loaded:\")\n",
    "df.show()"
   ]
  },
  {
   "cell_type": "code",
   "execution_count": 8,
   "id": "8c614059",
   "metadata": {},
   "outputs": [
    {
     "name": "stdout",
     "output_type": "stream",
     "text": [
      "DataFrame sorted by bonus in ascending order:\n",
      "+-------------+----------+-----+------+---+-----+\n",
      "|employee_name|department|state|salary|age|bonus|\n",
      "+-------------+----------+-----+------+---+-----+\n",
      "|        James|     Sales|   NY| 90000| 34|10000|\n",
      "|          Jen|   Finance|   NY| 79000| 53|15000|\n",
      "|         Jeff| Marketing|   CA| 80000| 25|18000|\n",
      "|        Scott|   Finance|   NY| 83000| 36|19000|\n",
      "|      Michael|     Sales|   NY| 86000| 56|20000|\n",
      "|        Kumar| Marketing|   NY| 91000| 50|21000|\n",
      "|       Robert|     Sales|   CA| 81000| 30|23000|\n",
      "|        Maria|   Finance|   CA| 90000| 24|23000|\n",
      "|        Raman|   Finance|   CA| 99000| 40|24000|\n",
      "+-------------+----------+-----+------+---+-----+\n",
      "\n"
     ]
    }
   ],
   "source": [
    "# create a DF, sort on bonus in ascending order\n",
    "sorted_df = df.sort(col(\"bonus\").asc())\n",
    "print(\"DataFrame sorted by bonus in ascending order:\")\n",
    "sorted_df.show()"
   ]
  },
  {
   "cell_type": "code",
   "execution_count": 9,
   "id": "22c4d145",
   "metadata": {},
   "outputs": [
    {
     "name": "stdout",
     "output_type": "stream",
     "text": [
      "DataFrame sorted by age (descending) and salary (ascending):\n",
      "+-------------+----------+-----+------+---+-----+\n",
      "|employee_name|department|state|salary|age|bonus|\n",
      "+-------------+----------+-----+------+---+-----+\n",
      "|      Michael|     Sales|   NY| 86000| 56|20000|\n",
      "|          Jen|   Finance|   NY| 79000| 53|15000|\n",
      "|        Kumar| Marketing|   NY| 91000| 50|21000|\n",
      "|        Raman|   Finance|   CA| 99000| 40|24000|\n",
      "|        Scott|   Finance|   NY| 83000| 36|19000|\n",
      "|        James|     Sales|   NY| 90000| 34|10000|\n",
      "|       Robert|     Sales|   CA| 81000| 30|23000|\n",
      "|         Jeff| Marketing|   CA| 80000| 25|18000|\n",
      "|        Maria|   Finance|   CA| 90000| 24|23000|\n",
      "+-------------+----------+-----+------+---+-----+\n",
      "\n"
     ]
    }
   ],
   "source": [
    "# create a df, sort on age and salary in descending order and ascending order respectively\n",
    "sorted_age_salary_df = df.sort(col(\"age\").desc(), col(\"salary\").asc())\n",
    "print(\"DataFrame sorted by age (descending) and salary (ascending):\")\n",
    "sorted_age_salary_df.show()"
   ]
  },
  {
   "cell_type": "code",
   "execution_count": 10,
   "id": "9b4f9f21",
   "metadata": {},
   "outputs": [
    {
     "name": "stdout",
     "output_type": "stream",
     "text": [
      "DataFrame sorted by age (descending), bonus (descending) and salary (ascending):\n",
      "+-------------+----------+-----+------+---+-----+\n",
      "|employee_name|department|state|salary|age|bonus|\n",
      "+-------------+----------+-----+------+---+-----+\n",
      "|      Michael|     Sales|   NY| 86000| 56|20000|\n",
      "|          Jen|   Finance|   NY| 79000| 53|15000|\n",
      "|        Kumar| Marketing|   NY| 91000| 50|21000|\n",
      "|        Raman|   Finance|   CA| 99000| 40|24000|\n",
      "|        Scott|   Finance|   NY| 83000| 36|19000|\n",
      "|        James|     Sales|   NY| 90000| 34|10000|\n",
      "|       Robert|     Sales|   CA| 81000| 30|23000|\n",
      "|         Jeff| Marketing|   CA| 80000| 25|18000|\n",
      "|        Maria|   Finance|   CA| 90000| 24|23000|\n",
      "+-------------+----------+-----+------+---+-----+\n",
      "\n"
     ]
    }
   ],
   "source": [
    "# create a DF sorted on age, bonus, salary in descending order, descending order and ascending order respectively\n",
    "sorted_age_bonus_salary_df = df.sort(col(\"age\").desc(), col(\"bonus\").desc(), col(\"salary\").asc())\n",
    "print(\"DataFrame sorted by age (descending), bonus (descending) and salary (ascending):\")\n",
    "sorted_age_bonus_salary_df.show()"
   ]
  },
  {
   "cell_type": "code",
   "execution_count": 14,
   "id": "c2203f8d",
   "metadata": {},
   "outputs": [
    {
     "name": "stdout",
     "output_type": "stream",
     "text": [
      "DataFrame with increment column:\n",
      "+-------------+----------+-----+------+---+-----+---------+\n",
      "|employee_name|department|state|salary|age|bonus|increment|\n",
      "+-------------+----------+-----+------+---+-----+---------+\n",
      "|        James|     Sales|   NY| 90000| 34|10000|   9500.0|\n",
      "|      Michael|     Sales|   NY| 86000| 56|20000|   9600.0|\n",
      "|       Robert|     Sales|   CA| 81000| 30|23000|  10410.0|\n",
      "|        Maria|   Finance|   CA| 90000| 24|23000|  11490.0|\n",
      "|        Raman|   Finance|   CA| 99000| 40|24000|  12600.0|\n",
      "|        Scott|   Finance|   NY| 83000| 36|19000|   9250.0|\n",
      "|          Jen|   Finance|   NY| 79000| 53|15000|   8650.0|\n",
      "|         Jeff| Marketing|   CA| 80000| 25|18000|  10140.0|\n",
      "|        Kumar| Marketing|   NY| 91000| 50|21000|  10150.0|\n",
      "+-------------+----------+-----+------+---+-----+---------+\n",
      "\n"
     ]
    }
   ],
   "source": [
    "# create a new column increment and provide the increment to the employees based on the following criteria\n",
    "# if employee is in NY state, his/her increment would be 10% of salary + 5% of bonus\n",
    "# if employee is in CA state, his/her increment would be 12% of salary + 3% of bonus\n",
    "\n",
    "increment_df = df.withColumn(\n",
    "    \"increment\",\n",
    "    when(col(\"state\") == \"NY\", col(\"salary\") * 0.10 + col(\"bonus\") * 0.05)\n",
    "    .when(col(\"state\") == \"CA\", col(\"salary\") * 0.12 + col(\"bonus\") * 0.03)\n",
    "    .otherwise(lit(0))\n",
    ")\n",
    "\n",
    "print(\"DataFrame with increment column:\")\n",
    "increment_df.show()"
   ]
  }
 ],
 "metadata": {
  "kernelspec": {
   "display_name": "Python 3",
   "language": "python",
   "name": "python3"
  },
  "language_info": {
   "codemirror_mode": {
    "name": "ipython",
    "version": 3
   },
   "file_extension": ".py",
   "mimetype": "text/x-python",
   "name": "python",
   "nbconvert_exporter": "python",
   "pygments_lexer": "ipython3",
   "version": "3.11.9"
  }
 },
 "nbformat": 4,
 "nbformat_minor": 5
}
