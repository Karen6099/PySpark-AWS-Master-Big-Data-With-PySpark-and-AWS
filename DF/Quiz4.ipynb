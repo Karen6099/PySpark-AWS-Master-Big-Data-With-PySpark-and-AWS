{
 "cells": [
  {
   "cell_type": "code",
   "execution_count": 2,
   "id": "0e508616",
   "metadata": {},
   "outputs": [
    {
     "name": "stdout",
     "output_type": "stream",
     "text": [
      "Spark Session Created Successfully!\n",
      "Basic DataFrame loaded:\n",
      "+------+\n",
      "| value|\n",
      "+------+\n",
      "| Apple|\n",
      "|   Mic|\n",
      "|   Mic|\n",
      "| Apple|\n",
      "|Laptop|\n",
      "| Apple|\n",
      "|   Mic|\n",
      "|   Mic|\n",
      "| Apple|\n",
      "|Laptop|\n",
      "| Chair|\n",
      "| Chair|\n",
      "| Chair|\n",
      "|   Bag|\n",
      "|Mobile|\n",
      "|  Book|\n",
      "| Chair|\n",
      "| Chair|\n",
      "| Chair|\n",
      "|   Bag|\n",
      "+------+\n",
      "only showing top 20 rows\n"
     ]
    }
   ],
   "source": [
    "from pyspark.sql import SparkSession\n",
    "from pyspark.sql.types import StructType, StructField, IntegerType, StringType\n",
    "from pyspark.sql.functions import col, lit\n",
    "\n",
    "# Create Spark session\n",
    "spark = SparkSession.builder.appName(\"Quiz4\").getOrCreate()\n",
    "print(\"Spark Session Created Successfully!\")\n",
    "\n",
    "# Read TXT file \n",
    "df = spark.read.text(\"WordData.txt\")\n",
    "print(\"Basic DataFrame loaded:\")\n",
    "df.show()"
   ]
  },
  {
   "cell_type": "code",
   "execution_count": 3,
   "id": "1d5afa47",
   "metadata": {},
   "outputs": [
    {
     "name": "stdout",
     "output_type": "stream",
     "text": [
      "Count of each word in the file:\n",
      "+------+-----+\n",
      "| value|count|\n",
      "+------+-----+\n",
      "|   Mic|   10|\n",
      "| Chair|   15|\n",
      "|  Book|    5|\n",
      "|Laptop|    5|\n",
      "|   Bag|    5|\n",
      "|Mobile|    5|\n",
      "| Apple|   10|\n",
      "+------+-----+\n",
      "\n"
     ]
    }
   ],
   "source": [
    "# calculate and show the count of each word in the file\n",
    "word_count_df = df.groupBy(\"value\").count()\n",
    "print(\"Count of each word in the file:\")\n",
    "word_count_df.show()"
   ]
  }
 ],
 "metadata": {
  "kernelspec": {
   "display_name": "Python 3",
   "language": "python",
   "name": "python3"
  },
  "language_info": {
   "codemirror_mode": {
    "name": "ipython",
    "version": 3
   },
   "file_extension": ".py",
   "mimetype": "text/x-python",
   "name": "python",
   "nbconvert_exporter": "python",
   "pygments_lexer": "ipython3",
   "version": "3.11.9"
  }
 },
 "nbformat": 4,
 "nbformat_minor": 5
}
