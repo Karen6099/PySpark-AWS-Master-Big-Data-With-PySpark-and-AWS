{
 "cells": [
  {
   "cell_type": "code",
   "execution_count": null,
   "id": "ff088109",
   "metadata": {},
   "outputs": [],
   "source": [
    "from pyspark.streaming import StreamingContext\n",
    "from pyspark import SparkConf, SparkContext\n",
    "\n",
    "conf = SparkConf().setAppName(\"Steaming\")\n",
    "sc = SparkContext.getOrCreate(conf=conf)\n",
    "\n",
    "ssc = StreamingContext(sc, 1)  # 1 second batch interval"
   ]
  },
  {
   "cell_type": "code",
   "execution_count": null,
   "id": "705c6451",
   "metadata": {},
   "outputs": [],
   "source": [
    "rdd = ssc.textFileStream(\"data/WordData.txt\")\n",
    "rdd = rdd.reduceByKey(lambda x, y: x + y)\n",
    "# rdd.pprint()\n",
    "ssc.start()\n",
    "# ssc.awaitTerminationOrTimeout(1000000)"
   ]
  }
 ],
 "metadata": {
  "kernelspec": {
   "display_name": "Python 3",
   "language": "python",
   "name": "python3"
  },
  "language_info": {
   "codemirror_mode": {
    "name": "ipython",
    "version": 3
   },
   "file_extension": ".py",
   "mimetype": "text/x-python",
   "name": "python",
   "nbconvert_exporter": "python",
   "pygments_lexer": "ipython3",
   "version": "3.11.9"
  }
 },
 "nbformat": 4,
 "nbformat_minor": 5
}
