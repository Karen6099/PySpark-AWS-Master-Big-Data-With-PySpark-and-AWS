{
 "cells": [
  {
   "cell_type": "code",
   "execution_count": 1,
   "id": "c2d084b1",
   "metadata": {},
   "outputs": [],
   "source": [
    "from pyspark import SparkContext, SparkConf\n",
    "# Create Spark configuration with application name\n",
    "conf = SparkConf().setAppName(\"Count\")\n",
    "# Create or get existing SparkContext\n",
    "sc = SparkContext.getOrCreate(conf=conf)"
   ]
  },
  {
   "cell_type": "code",
   "execution_count": 5,
   "id": "3d251186",
   "metadata": {},
   "outputs": [],
   "source": [
    "# Read the text file into an RDD\n",
    "rdd = sc.textFile(\"../data/Sample_words2.txt\")"
   ]
  },
  {
   "cell_type": "code",
   "execution_count": 8,
   "id": "d88773de",
   "metadata": {},
   "outputs": [
    {
     "data": {
      "text/plain": [
       "defaultdict(int,\n",
       "            {'the mango company ': 1,\n",
       "             'cat dog ant animal laptop': 1,\n",
       "             'chair switch mango am charger cover': 1,\n",
       "             'animalany mango ant laptop laptop': 1,\n",
       "             'this': 1})"
      ]
     },
     "execution_count": 8,
     "metadata": {},
     "output_type": "execute_result"
    }
   ],
   "source": [
    "rdd.countByValue()"
   ]
  },
  {
   "cell_type": "code",
   "execution_count": 9,
   "id": "0e437541",
   "metadata": {},
   "outputs": [
    {
     "data": {
      "text/plain": [
       "21"
      ]
     },
     "execution_count": 9,
     "metadata": {},
     "output_type": "execute_result"
    }
   ],
   "source": [
    "rdd2 = rdd.flatMap(lambda x: x.split(' '))\n",
    "rdd2.count()"
   ]
  },
  {
   "cell_type": "code",
   "execution_count": 10,
   "id": "5193ea31",
   "metadata": {},
   "outputs": [
    {
     "data": {
      "text/plain": [
       "defaultdict(int,\n",
       "            {'the': 1,\n",
       "             'mango': 3,\n",
       "             'company': 1,\n",
       "             '': 1,\n",
       "             'cat': 1,\n",
       "             'dog': 1,\n",
       "             'ant': 2,\n",
       "             'animal': 1,\n",
       "             'laptop': 3,\n",
       "             'chair': 1,\n",
       "             'switch': 1,\n",
       "             'am': 1,\n",
       "             'charger': 1,\n",
       "             'cover': 1,\n",
       "             'animalany': 1,\n",
       "             'this': 1})"
      ]
     },
     "execution_count": 10,
     "metadata": {},
     "output_type": "execute_result"
    }
   ],
   "source": [
    "rdd2.countByValue()"
   ]
  }
 ],
 "metadata": {
  "kernelspec": {
   "display_name": "Python 3",
   "language": "python",
   "name": "python3"
  },
  "language_info": {
   "codemirror_mode": {
    "name": "ipython",
    "version": 3
   },
   "file_extension": ".py",
   "mimetype": "text/x-python",
   "name": "python",
   "nbconvert_exporter": "python",
   "pygments_lexer": "ipython3",
   "version": "3.11.9"
  }
 },
 "nbformat": 4,
 "nbformat_minor": 5
}
