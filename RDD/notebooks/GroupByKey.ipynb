{
 "cells": [
  {
   "cell_type": "code",
   "execution_count": 1,
   "id": "c2d084b1",
   "metadata": {},
   "outputs": [],
   "source": [
    "from pyspark import SparkContext, SparkConf\n",
    "conf = SparkConf().setAppName(\"GroupByKey\")\n",
    "sc = SparkContext.getOrCreate(conf=conf)"
   ]
  },
  {
   "cell_type": "code",
   "execution_count": 2,
   "id": "0f6c071d",
   "metadata": {},
   "outputs": [],
   "source": [
    "rdd = sc.textFile(\"../data/Sample_words.txt\")\n",
    "rdd2 = rdd.flatMap(lambda x: x.split(\" \"))"
   ]
  },
  {
   "cell_type": "code",
   "execution_count": 3,
   "id": "5e1e009d",
   "metadata": {},
   "outputs": [
    {
     "data": {
      "text/plain": [
       "[('the', 3),\n",
       " ('mango', 5),\n",
       " ('company', 7),\n",
       " ('animal', 6),\n",
       " ('cat', 3),\n",
       " ('dog', 3),\n",
       " ('ant', 3),\n",
       " ('mic', 3),\n",
       " ('laptop', 6),\n",
       " ('chair', 5),\n",
       " ('switch', 6),\n",
       " ('mobile', 6),\n",
       " ('am', 2),\n",
       " ('charger', 7),\n",
       " ('cover', 5),\n",
       " ('amanda', 6),\n",
       " ('any', 3),\n",
       " ('alarm', 5),\n",
       " ('ant', 3)]"
      ]
     },
     "execution_count": 3,
     "metadata": {},
     "output_type": "execute_result"
    }
   ],
   "source": [
    "rdd3 = rdd2.map(lambda x: (x, len(x)))\n",
    "rdd3.collect()"
   ]
  },
  {
   "cell_type": "code",
   "execution_count": 4,
   "id": "d4bfcab9",
   "metadata": {},
   "outputs": [
    {
     "data": {
      "text/plain": [
       "[('dog', [3]),\n",
       " ('ant', [3, 3]),\n",
       " ('mic', [3]),\n",
       " ('laptop', [6]),\n",
       " ('chair', [5]),\n",
       " ('charger', [7]),\n",
       " ('cover', [5]),\n",
       " ('alarm', [5]),\n",
       " ('the', [3]),\n",
       " ('mango', [5]),\n",
       " ('company', [7]),\n",
       " ('animal', [6]),\n",
       " ('cat', [3]),\n",
       " ('switch', [6]),\n",
       " ('mobile', [6]),\n",
       " ('am', [2]),\n",
       " ('amanda', [6]),\n",
       " ('any', [3])]"
      ]
     },
     "execution_count": 4,
     "metadata": {},
     "output_type": "execute_result"
    }
   ],
   "source": [
    "rdd3.groupByKey().mapValues(list).collect()"
   ]
  }
 ],
 "metadata": {
  "kernelspec": {
   "display_name": "Python 3",
   "language": "python",
   "name": "python3"
  },
  "language_info": {
   "codemirror_mode": {
    "name": "ipython",
    "version": 3
   },
   "file_extension": ".py",
   "mimetype": "text/x-python",
   "name": "python",
   "nbconvert_exporter": "python",
   "pygments_lexer": "ipython3",
   "version": "3.11.9"
  }
 },
 "nbformat": 4,
 "nbformat_minor": 5
}
