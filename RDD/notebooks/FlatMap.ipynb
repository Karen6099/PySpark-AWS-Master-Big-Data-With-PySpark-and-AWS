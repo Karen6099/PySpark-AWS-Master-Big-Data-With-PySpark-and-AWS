{
 "cells": [
  {
   "cell_type": "markdown",
   "id": "5cfb3f65",
   "metadata": {},
   "source": [
    "### Import Spark Configuration and Create SparkContext\n",
    "This cell imports the necessary PySpark classes and creates a SparkContext with the application name \"FlatMap Example\"."
   ]
  },
  {
   "cell_type": "code",
   "execution_count": 1,
   "id": "dbbf5908",
   "metadata": {},
   "outputs": [],
   "source": [
    "from pyspark import SparkContext, SparkConf\n",
    "conf = SparkConf().setAppName(\"FlatMap Example\")\n",
    "sc = SparkContext.getOrCreate(conf=conf)"
   ]
  },
  {
   "cell_type": "markdown",
   "id": "d0cdbe68",
   "metadata": {},
   "source": [
    "### Read Sample Text File into RDD\n",
    "This cell reads the contents of 'Sample.txt' into a Resilient Distributed Dataset (RDD) and displays the raw text data."
   ]
  },
  {
   "cell_type": "code",
   "execution_count": 2,
   "id": "d5325082",
   "metadata": {},
   "outputs": [
    {
     "data": {
      "text/plain": [
       "['1 2 3 4 5', '3 4 5 66 77', '12 43 6 7 8', '12 12 33']"
      ]
     },
     "execution_count": 2,
     "metadata": {},
     "output_type": "execute_result"
    }
   ],
   "source": [
    "rdd = sc.textFile(\"../data/Sample.txt\")\n",
    "rdd.collect()"
   ]
  },
  {
   "cell_type": "markdown",
   "id": "3c16ed54",
   "metadata": {},
   "source": [
    "### Apply Map Transformation to Split Text Lines\n",
    "This cell demonstrates the `map` transformation, which applies a function to each element in the RDD. Here, we split each line of text by spaces, creating a new RDD where each element is a list of words."
   ]
  },
  {
   "cell_type": "code",
   "execution_count": 5,
   "id": "372e7a09",
   "metadata": {},
   "outputs": [
    {
     "data": {
      "text/plain": [
       "[['1', '2', '3', '4', '5'],\n",
       " ['3', '4', '5', '66', '77'],\n",
       " ['12', '43', '6', '7', '8'],\n",
       " ['12', '12', '33']]"
      ]
     },
     "execution_count": 5,
     "metadata": {},
     "output_type": "execute_result"
    }
   ],
   "source": [
    "mapped_rdd = rdd.map(lambda x: x.split(\" \"))\n",
    "mapped_rdd.collect()"
   ]
  },
  {
   "cell_type": "markdown",
   "id": "24ff0a32",
   "metadata": {},
   "source": [
    "### Apply FlatMap Transformation to Flatten Results\n",
    "This cell demonstrates the `flatMap` transformation, which is similar to `map` but flattens the results. Instead of returning nested lists like `map`, `flatMap` returns a single flattened sequence of all elements. Here, we split each line by spaces and flatten all words into a single RDD."
   ]
  },
  {
   "cell_type": "code",
   "execution_count": 6,
   "id": "5eb48f2b",
   "metadata": {},
   "outputs": [
    {
     "data": {
      "text/plain": [
       "['1',\n",
       " '2',\n",
       " '3',\n",
       " '4',\n",
       " '5',\n",
       " '3',\n",
       " '4',\n",
       " '5',\n",
       " '66',\n",
       " '77',\n",
       " '12',\n",
       " '43',\n",
       " '6',\n",
       " '7',\n",
       " '8',\n",
       " '12',\n",
       " '12',\n",
       " '33']"
      ]
     },
     "execution_count": 6,
     "metadata": {},
     "output_type": "execute_result"
    }
   ],
   "source": [
    "flatmapped_rdd = rdd.flatMap(lambda x: x.split(\" \"))\n",
    "flatmapped_rdd.collect()"
   ]
  }
 ],
 "metadata": {
  "kernelspec": {
   "display_name": "Python 3",
   "language": "python",
   "name": "python3"
  },
  "language_info": {
   "codemirror_mode": {
    "name": "ipython",
    "version": 3
   },
   "file_extension": ".py",
   "mimetype": "text/x-python",
   "name": "python",
   "nbconvert_exporter": "python",
   "pygments_lexer": "ipython3",
   "version": "3.11.9"
  }
 },
 "nbformat": 4,
 "nbformat_minor": 5
}
