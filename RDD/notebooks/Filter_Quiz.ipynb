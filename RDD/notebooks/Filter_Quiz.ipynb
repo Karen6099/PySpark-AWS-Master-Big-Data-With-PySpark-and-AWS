{
 "cells": [
  {
   "cell_type": "markdown",
   "id": "0e702352",
   "metadata": {},
   "source": [
    "Write a filter that will remove all the words that are either starting from a or c from the rdd"
   ]
  },
  {
   "cell_type": "code",
   "execution_count": 1,
   "id": "459e26b2",
   "metadata": {},
   "outputs": [
    {
     "data": {
      "text/plain": [
       "['the manho company animal',\n",
       " 'cat dog ant mic laptop',\n",
       " 'chair switch mobile am charger cover',\n",
       " 'amanda any alarm ant']"
      ]
     },
     "execution_count": 1,
     "metadata": {},
     "output_type": "execute_result"
    }
   ],
   "source": [
    "from pyspark import SparkContext, SparkConf\n",
    "conf = SparkConf().setAppName(\"Filter Quiz\")\n",
    "sc = SparkContext.getOrCreate(conf=conf)"
   ]
  },
  {
   "cell_type": "code",
   "execution_count": null,
   "id": "314f4dac",
   "metadata": {},
   "outputs": [
    {
     "data": {
      "text/plain": [
       "['the',\n",
       " 'mango',\n",
       " 'company',\n",
       " 'animal',\n",
       " 'cat',\n",
       " 'dog',\n",
       " 'ant',\n",
       " 'mic',\n",
       " 'laptop',\n",
       " 'chair',\n",
       " 'switch',\n",
       " 'mobile',\n",
       " 'am',\n",
       " 'charger',\n",
       " 'cover',\n",
       " 'amanda',\n",
       " 'any',\n",
       " 'alarm',\n",
       " 'ant']"
      ]
     },
     "execution_count": 8,
     "metadata": {},
     "output_type": "execute_result"
    }
   ],
   "source": [
    "rdd = sc.textFile(\"../data/Sample_words.txt\")\n",
    "rdd.collect()\n",
    "flatMapRdd = rdd.flatMap(lambda x: x.split(\" \"))\n",
    "flatMapRdd.collect()"
   ]
  },
  {
   "cell_type": "code",
   "execution_count": 9,
   "id": "a6424cbd",
   "metadata": {},
   "outputs": [
    {
     "data": {
      "text/plain": [
       "['the', 'mango', 'dog', 'mic', 'laptop', 'switch', 'mobile']"
      ]
     },
     "execution_count": 9,
     "metadata": {},
     "output_type": "execute_result"
    }
   ],
   "source": [
    "# remove all the words that are either starting from a or c from the rdd\n",
    "def foo(x):\n",
    "    if x.startswith(\"a\") or x.startswith(\"c\"):\n",
    "        return False\n",
    "    else:\n",
    "        return True\n",
    "    \n",
    "rdd2 = flatMapRdd.filter(foo)\n",
    "rdd2.collect()"
   ]
  }
 ],
 "metadata": {
  "kernelspec": {
   "display_name": "Python 3",
   "language": "python",
   "name": "python3"
  },
  "language_info": {
   "codemirror_mode": {
    "name": "ipython",
    "version": 3
   },
   "file_extension": ".py",
   "mimetype": "text/x-python",
   "name": "python",
   "nbconvert_exporter": "python",
   "pygments_lexer": "ipython3",
   "version": "3.11.9"
  }
 },
 "nbformat": 4,
 "nbformat_minor": 5
}
