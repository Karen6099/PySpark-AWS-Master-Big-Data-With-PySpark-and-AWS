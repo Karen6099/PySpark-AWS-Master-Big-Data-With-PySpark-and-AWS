{
 "cells": [
  {
   "cell_type": "code",
   "execution_count": null,
   "id": "c2d084b1",
   "metadata": {},
   "outputs": [],
   "source": [
    "from pyspark import SparkContext, SparkConf\n",
    "# Create Spark configuration with application name\n",
    "conf = SparkConf().setAppName(\"Word Count\")\n",
    "# Create or get existing SparkContext\n",
    "sc = SparkContext.getOrCreate(conf=conf)"
   ]
  },
  {
   "cell_type": "code",
   "execution_count": null,
   "id": "3d251186",
   "metadata": {},
   "outputs": [
    {
     "data": {
      "text/plain": [
       "[('dog', 1),\n",
       " ('ant', 2),\n",
       " ('laptop', 3),\n",
       " ('chair', 1),\n",
       " ('charger', 1),\n",
       " ('cover', 1),\n",
       " ('animalany', 1),\n",
       " ('this', 1),\n",
       " ('the', 1),\n",
       " ('mango', 3),\n",
       " ('company', 1),\n",
       " ('cat', 1),\n",
       " ('animal', 1),\n",
       " ('switch', 1),\n",
       " ('am', 1)]"
      ]
     },
     "execution_count": 6,
     "metadata": {},
     "output_type": "execute_result"
    }
   ],
   "source": [
    "# Write a transformation flow to return the word count of each word present in the file as (key, value) pairs\n",
    "# where key is the word and value is the count of the word\n",
    "\n",
    "# Read the text file into an RDD\n",
    "rdd = sc.textFile(\"../data/Sample_words2.txt\")\n",
    "\n",
    "# Step-by-step word count process:\n",
    "# 1. Split each line into words using flatMap (flattens the result into individual words)\n",
    "rdd2 = rdd.flatMap(lambda x: x.split(' '))\n",
    "# 2. Filter out empty strings that might result from multiple spaces\n",
    "rdd3 = rdd2.filter(lambda x: len(x) != 0)\n",
    "# 3. Convert each word to a (word, 1) key-value pair for counting\n",
    "rdd4 = rdd3.map(lambda x: (x,1))\n",
    "# 4. Reduce by key to sum up the counts for each word\n",
    "rdd4.reduceByKey(lambda x,y : x+y).collect()\n",
    "\n",
    "# Chained version of the same word count process in one line\n",
    "rdd.flatMap(lambda x: x.split(' ')).filter(lambda x: len(x) != 0).map(lambda x: (x,1)).reduceByKey(lambda x,y : x+y).collect()"
   ]
  }
 ],
 "metadata": {
  "kernelspec": {
   "display_name": "Python 3",
   "language": "python",
   "name": "python3"
  },
  "language_info": {
   "codemirror_mode": {
    "name": "ipython",
    "version": 3
   },
   "file_extension": ".py",
   "mimetype": "text/x-python",
   "name": "python",
   "nbconvert_exporter": "python",
   "pygments_lexer": "ipython3",
   "version": "3.11.9"
  }
 },
 "nbformat": 4,
 "nbformat_minor": 5
}
