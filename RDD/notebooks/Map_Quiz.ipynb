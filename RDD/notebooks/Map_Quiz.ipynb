{
 "cells": [
  {
   "cell_type": "markdown",
   "id": "a67f87a4",
   "metadata": {},
   "source": [
    "Read \"../data/quiz_Sample.txt\" in the RDD, write a mapper that will provide the length of each word in the following format:\n",
    "[ [2, 3, 3, 4], [4, 3, 3, 5], [5]]"
   ]
  },
  {
   "cell_type": "markdown",
   "id": "1a3e406f",
   "metadata": {},
   "source": [
    "### Import Spark Configuration and Create SparkContext\n",
    "This cell imports the necessary PySpark classes and creates a SparkContext with the application name \"QUIZ\"."
   ]
  },
  {
   "cell_type": "code",
   "execution_count": 1,
   "id": "d5b442a1",
   "metadata": {},
   "outputs": [],
   "source": [
    "from pyspark import SparkContext, SparkConf\n",
    "conf = SparkConf().setAppName(\"QUIZ\")\n",
    "sc = SparkContext.getOrCreate(conf=conf)"
   ]
  },
  {
   "cell_type": "markdown",
   "id": "b51b0ce6",
   "metadata": {},
   "source": [
    "### Read Quiz Sample File into RDD\n",
    "This cell reads the contents of 'quiz_Sample.txt' into a Resilient Distributed Dataset (RDD) and displays the raw text data."
   ]
  },
  {
   "cell_type": "code",
   "execution_count": null,
   "id": "8761c05d",
   "metadata": {},
   "outputs": [
    {
     "data": {
      "text/plain": [
       "['Hi how are you?', 'Hope you are doing', 'great']"
      ]
     },
     "execution_count": 2,
     "metadata": {},
     "output_type": "execute_result"
    }
   ],
   "source": [
    "rdd = sc.textFile(\"../data/Map_Quiz.txt\")\n",
    "rdd.collect()"
   ]
  },
  {
   "cell_type": "markdown",
   "id": "3017cba5",
   "metadata": {},
   "source": [
    "### Split Text Lines into Words\n",
    "This cell applies a map transformation to split each line of text by spaces, creating a new RDD where each element is a list of words."
   ]
  },
  {
   "cell_type": "code",
   "execution_count": 3,
   "id": "72334dd0",
   "metadata": {},
   "outputs": [
    {
     "data": {
      "text/plain": [
       "[['Hi', 'how', 'are', 'you?'], ['Hope', 'you', 'are', 'doing'], ['great']]"
      ]
     },
     "execution_count": 3,
     "metadata": {},
     "output_type": "execute_result"
    }
   ],
   "source": [
    "rdd2 = rdd.map(lambda x: x.split(' '))\n",
    "rdd2.collect()"
   ]
  },
  {
   "cell_type": "markdown",
   "id": "ecf62a6c",
   "metadata": {},
   "source": [
    "### Calculate Word Lengths Using Custom Mapper\n",
    "This cell defines a custom function `word_length_mapper` that takes a list of words and returns a list of their lengths. It then applies this function using a map transformation to create the desired output format: [[2, 3, 3, 4], [4, 3, 3, 5], [5]]."
   ]
  },
  {
   "cell_type": "code",
   "execution_count": 4,
   "id": "1002d681",
   "metadata": {},
   "outputs": [
    {
     "data": {
      "text/plain": [
       "[[2, 3, 3, 4], [4, 3, 3, 5], [5]]"
      ]
     },
     "execution_count": 4,
     "metadata": {},
     "output_type": "execute_result"
    }
   ],
   "source": [
    "def word_length_mapper(words):\n",
    "    lengths = []\n",
    "    for word in words:\n",
    "        lengths.append(len(word))\n",
    "    return lengths\n",
    "\n",
    "rdd3 = rdd2.map(lambda x: word_length_mapper(x))\n",
    "rdd3.collect()\n"
   ]
  }
 ],
 "metadata": {
  "kernelspec": {
   "display_name": "Python 3",
   "language": "python",
   "name": "python3"
  },
  "language_info": {
   "codemirror_mode": {
    "name": "ipython",
    "version": 3
   },
   "file_extension": ".py",
   "mimetype": "text/x-python",
   "name": "python",
   "nbconvert_exporter": "python",
   "pygments_lexer": "ipython3",
   "version": "3.11.9"
  }
 },
 "nbformat": 4,
 "nbformat_minor": 5
}
