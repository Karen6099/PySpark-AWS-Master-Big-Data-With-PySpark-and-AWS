{
 "cells": [
  {
   "cell_type": "markdown",
   "id": "5cfb3f65",
   "metadata": {},
   "source": [
    "### Import Spark Configuration and Create SparkContext\n",
    "This cell imports the necessary PySpark classes and creates a SparkContext with the application name \"Filter\"."
   ]
  },
  {
   "cell_type": "code",
   "execution_count": 1,
   "id": "dbbf5908",
   "metadata": {},
   "outputs": [],
   "source": [
    "from pyspark import SparkContext, SparkConf\n",
    "conf = SparkConf().setAppName(\"Filter\")\n",
    "sc = SparkContext.getOrCreate(conf=conf)"
   ]
  },
  {
   "cell_type": "markdown",
   "id": "d0cdbe68",
   "metadata": {},
   "source": [
    "### Read Sample Text File into RDD\n",
    "This cell reads the contents of 'Sample.txt' into a Resilient Distributed Dataset (RDD) and displays the raw text data."
   ]
  },
  {
   "cell_type": "code",
   "execution_count": 2,
   "id": "d5325082",
   "metadata": {},
   "outputs": [
    {
     "data": {
      "text/plain": [
       "['1 2 3 4 5', '3 4 5 66 77', '12 43 6 7 8', '12 12 33']"
      ]
     },
     "execution_count": 2,
     "metadata": {},
     "output_type": "execute_result"
    }
   ],
   "source": [
    "rdd = sc.textFile(\"../data/Sample.txt\")\n",
    "rdd.collect()"
   ]
  },
  {
   "cell_type": "code",
   "execution_count": 5,
   "id": "002ffa09",
   "metadata": {},
   "outputs": [
    {
     "data": {
      "text/plain": [
       "['1 2 3 4 5', '3 4 5 66 77', '12 43 6 7 8']"
      ]
     },
     "execution_count": 5,
     "metadata": {},
     "output_type": "execute_result"
    }
   ],
   "source": [
    "def foo(x):\n",
    "    if x == \"12 12 33\":\n",
    "        return False\n",
    "    else:\n",
    "        return True\n",
    "\n",
    "rdd2 = rdd.filter(foo)\n",
    "rdd2.collect()"
   ]
  }
 ],
 "metadata": {
  "kernelspec": {
   "display_name": "Python 3",
   "language": "python",
   "name": "python3"
  },
  "language_info": {
   "codemirror_mode": {
    "name": "ipython",
    "version": 3
   },
   "file_extension": ".py",
   "mimetype": "text/x-python",
   "name": "python",
   "nbconvert_exporter": "python",
   "pygments_lexer": "ipython3",
   "version": "3.11.9"
  }
 },
 "nbformat": 4,
 "nbformat_minor": 5
}
