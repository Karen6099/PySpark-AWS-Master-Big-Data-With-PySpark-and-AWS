{
 "cells": [
  {
   "cell_type": "code",
   "execution_count": 1,
   "id": "c2d084b1",
   "metadata": {},
   "outputs": [],
   "source": [
    "from pyspark import SparkContext, SparkConf\n",
    "conf = SparkConf().setAppName(\"ReduceByKey\")\n",
    "sc = SparkContext.getOrCreate(conf=conf)"
   ]
  },
  {
   "cell_type": "code",
   "execution_count": 2,
   "id": "0f6c071d",
   "metadata": {},
   "outputs": [],
   "source": [
    "rdd = sc.textFile(\"../data/Sample_words.txt\")\n",
    "rdd2 = rdd.flatMap(lambda x: x.split(\" \"))"
   ]
  },
  {
   "cell_type": "code",
   "execution_count": 6,
   "id": "5e1e009d",
   "metadata": {},
   "outputs": [
    {
     "data": {
      "text/plain": [
       "[('the', 1),\n",
       " ('mango', 1),\n",
       " ('company', 1),\n",
       " ('animal', 1),\n",
       " ('cat', 1),\n",
       " ('dog', 1),\n",
       " ('ant', 1),\n",
       " ('mic', 1),\n",
       " ('laptop', 1),\n",
       " ('chair', 1),\n",
       " ('switch', 1),\n",
       " ('mobile', 1),\n",
       " ('am', 1),\n",
       " ('charger', 1),\n",
       " ('cover', 1),\n",
       " ('amanda', 1),\n",
       " ('any', 1),\n",
       " ('alarm', 1),\n",
       " ('ant', 1)]"
      ]
     },
     "execution_count": 6,
     "metadata": {},
     "output_type": "execute_result"
    }
   ],
   "source": [
    "rdd3 = rdd2.map(lambda x: (x, 1))\n",
    "rdd3.collect()"
   ]
  },
  {
   "cell_type": "code",
   "execution_count": 7,
   "id": "d4bfcab9",
   "metadata": {},
   "outputs": [
    {
     "data": {
      "text/plain": [
       "[('dog', 1),\n",
       " ('ant', 2),\n",
       " ('mic', 1),\n",
       " ('laptop', 1),\n",
       " ('chair', 1),\n",
       " ('charger', 1),\n",
       " ('cover', 1),\n",
       " ('alarm', 1),\n",
       " ('the', 1),\n",
       " ('mango', 1),\n",
       " ('company', 1),\n",
       " ('animal', 1),\n",
       " ('cat', 1),\n",
       " ('switch', 1),\n",
       " ('mobile', 1),\n",
       " ('am', 1),\n",
       " ('amanda', 1),\n",
       " ('any', 1)]"
      ]
     },
     "execution_count": 7,
     "metadata": {},
     "output_type": "execute_result"
    }
   ],
   "source": [
    "rdd3.reduceByKey(lambda x,y: x+y).collect()"
   ]
  }
 ],
 "metadata": {
  "kernelspec": {
   "display_name": "Python 3",
   "language": "python",
   "name": "python3"
  },
  "language_info": {
   "codemirror_mode": {
    "name": "ipython",
    "version": 3
   },
   "file_extension": ".py",
   "mimetype": "text/x-python",
   "name": "python",
   "nbconvert_exporter": "python",
   "pygments_lexer": "ipython3",
   "version": "3.11.9"
  }
 },
 "nbformat": 4,
 "nbformat_minor": 5
}
