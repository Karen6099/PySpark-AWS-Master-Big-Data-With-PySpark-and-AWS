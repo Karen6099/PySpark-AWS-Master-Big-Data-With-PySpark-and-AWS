{
 "cells": [
  {
   "cell_type": "code",
   "execution_count": 4,
   "id": "7199e118",
   "metadata": {},
   "outputs": [
    {
     "name": "stdout",
     "output_type": "stream",
     "text": [
      "Hello World\n"
     ]
    }
   ],
   "source": [
    "# Print a simple greeting to verify the notebook is running\n",
    "print(\"Hello World\")"
   ]
  },
  {
   "cell_type": "markdown",
   "id": "cdc9601e",
   "metadata": {},
   "source": [
    "### Import Spark configuration and SparkContext\n",
    "This cell imports the necessary PySpark classes to configure and create a Spark context."
   ]
  },
  {
   "cell_type": "code",
   "execution_count": 5,
   "id": "70fd08c2",
   "metadata": {},
   "outputs": [],
   "source": [
    "# Import SparkConf and SparkContext from pyspark\n",
    "from pyspark import SparkConf, SparkContext"
   ]
  },
  {
   "cell_type": "markdown",
   "id": "ec6f5d9e",
   "metadata": {},
   "source": [
    "### Configure Spark Application and set Application Name\n",
    "This cell creates a SparkConf object and sets the application name."
   ]
  },
  {
   "cell_type": "code",
   "execution_count": 6,
   "id": "6327cb98",
   "metadata": {},
   "outputs": [],
   "source": [
    "# Create a SparkConf object and set the application name\n",
    "conf = SparkConf().setAppName(\"Read File\")"
   ]
  },
  {
   "cell_type": "markdown",
   "id": "cb5733cb",
   "metadata": {},
   "source": [
    "### Set the context of the application as well and use .getOrCreate method so we don't create multiple context within the same process\n",
    "This cell creates a SparkContext using the configuration above. The getOrCreate method ensures only one context is active."
   ]
  },
  {
   "cell_type": "code",
   "execution_count": 7,
   "id": "b90dfdce",
   "metadata": {},
   "outputs": [],
   "source": [
    "# Create or retrieve a SparkContext using the configuration above\n",
    "sc = SparkContext.getOrCreate(conf=conf)"
   ]
  },
  {
   "cell_type": "markdown",
   "id": "4f1deb32",
   "metadata": {},
   "source": [
    "### Read a text file into an RDD\n",
    "This cell reads the contents of 'Sample.txt' into a Resilient Distributed Dataset (RDD) using the Spark context."
   ]
  },
  {
   "cell_type": "code",
   "execution_count": 8,
   "id": "3d8d1d84",
   "metadata": {},
   "outputs": [],
   "source": [
    "# Read the contents of 'Sample.txt' into an RDD\n",
    "text = sc.textFile(\"../data/Sample.txt\")"
   ]
  },
  {
   "cell_type": "markdown",
   "id": "19737fc2",
   "metadata": {},
   "source": [
    "### Collect and display the contents of the RDD\n",
    "This cell collects all elements from the RDD and displays them as a Python list."
   ]
  },
  {
   "cell_type": "code",
   "execution_count": 9,
   "id": "50c446d0",
   "metadata": {},
   "outputs": [
    {
     "data": {
      "text/plain": [
       "['1 2 3 4 5', '3 4 5 66 77', '12 43 6 7 8', '12 12 33']"
      ]
     },
     "execution_count": 9,
     "metadata": {},
     "output_type": "execute_result"
    }
   ],
   "source": [
    "# Collect all elements from the RDD and display as a list\n",
    "text.collect()"
   ]
  }
 ],
 "metadata": {
  "kernelspec": {
   "display_name": "Python 3",
   "language": "python",
   "name": "python3"
  },
  "language_info": {
   "codemirror_mode": {
    "name": "ipython",
    "version": 3
   },
   "file_extension": ".py",
   "mimetype": "text/x-python",
   "name": "python",
   "nbconvert_exporter": "python",
   "pygments_lexer": "ipython3",
   "version": "3.12.10"
  }
 },
 "nbformat": 4,
 "nbformat_minor": 5
}
