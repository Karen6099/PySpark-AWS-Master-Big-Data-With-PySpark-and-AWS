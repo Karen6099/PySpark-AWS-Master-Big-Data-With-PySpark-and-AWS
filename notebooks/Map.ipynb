{
 "cells": [
  {
   "cell_type": "markdown",
   "id": "e705825e",
   "metadata": {},
   "source": [
    "### Import Spark Configuration and SparkContext\n",
    "This cell imports the necessary PySpark classes to configure and create a Spark context."
   ]
  },
  {
   "cell_type": "code",
   "execution_count": 1,
   "id": "ab5d578c",
   "metadata": {},
   "outputs": [],
   "source": [
    "from pyspark import SparkConf, SparkContext\n",
    "conf = SparkConf().setAppName(\"Read File\")\n",
    "sc = SparkContext.getOrCreate(conf=conf)"
   ]
  },
  {
   "cell_type": "markdown",
   "id": "0bc07942",
   "metadata": {},
   "source": [
    "### Read a Text File into an RDD\n",
    "This cell reads the contents of 'Sample.txt' into a Resilient Distributed Dataset (RDD) using the Spark context and collects the results."
   ]
  },
  {
   "cell_type": "code",
   "execution_count": 2,
   "id": "5a30868a",
   "metadata": {},
   "outputs": [
    {
     "data": {
      "text/plain": [
       "['1 2 3 4 5', '3 4 5 66 77', '12 43 6 7 8', '12 12 33']"
      ]
     },
     "execution_count": 2,
     "metadata": {},
     "output_type": "execute_result"
    }
   ],
   "source": [
    "rdd = sc.textFile(\"../data/Sample.txt\")\n",
    "rdd.collect()"
   ]
  },
  {
   "cell_type": "markdown",
   "id": "39e940b2",
   "metadata": {},
   "source": [
    "### Apply Map Transformation to Split Text Lines\n",
    "This cell demonstrates the `map` transformation, which applies a function to each element in the RDD. Here, we split each line of text by spaces to create a new RDD where each element is a list of words."
   ]
  },
  {
   "cell_type": "code",
   "execution_count": null,
   "id": "fdea6ade",
   "metadata": {},
   "outputs": [
    {
     "data": {
      "text/plain": [
       "[['1', '2', '3', '4', '5'],\n",
       " ['3', '4', '5', '66', '77'],\n",
       " ['12', '43', '6', '7', '8'],\n",
       " ['12', '12', '33']]"
      ]
     },
     "execution_count": 3,
     "metadata": {},
     "output_type": "execute_result"
    }
   ],
   "source": [
    "rdd2 = rdd.map(lambda x: x.split(' '))\n",
    "rdd2.collect()"
   ]
  }
 ],
 "metadata": {
  "kernelspec": {
   "display_name": "Python 3",
   "language": "python",
   "name": "python3"
  },
  "language_info": {
   "codemirror_mode": {
    "name": "ipython",
    "version": 3
   },
   "file_extension": ".py",
   "mimetype": "text/x-python",
   "name": "python",
   "nbconvert_exporter": "python",
   "pygments_lexer": "ipython3",
   "version": "3.11.9"
  }
 },
 "nbformat": 4,
 "nbformat_minor": 5
}
