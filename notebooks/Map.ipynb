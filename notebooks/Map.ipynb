{
 "cells": [
  {
   "cell_type": "markdown",
   "id": "e705825e",
   "metadata": {},
   "source": [
    "### Import Spark Configuration and SparkContext\n",
    "This cell imports the necessary PySpark classes to configure and create a Spark context."
   ]
  },
  {
   "cell_type": "code",
   "execution_count": 1,
   "id": "ab5d578c",
   "metadata": {},
   "outputs": [],
   "source": [
    "from pyspark import SparkConf, SparkContext\n",
    "conf = SparkConf().setAppName(\"Read File\")\n",
    "sc = SparkContext.getOrCreate(conf=conf)"
   ]
  },
  {
   "cell_type": "markdown",
   "id": "0bc07942",
   "metadata": {},
   "source": [
    "### Read a Text File into an RDD\n",
    "This cell reads the contents of 'Sample.txt' into a Resilient Distributed Dataset (RDD) using the Spark context and collects the results."
   ]
  },
  {
   "cell_type": "code",
   "execution_count": 2,
   "id": "5a30868a",
   "metadata": {},
   "outputs": [
    {
     "data": {
      "text/plain": [
       "['1 2 3 4 5', '3 4 5 66 77', '12 43 6 7 8', '12 12 33']"
      ]
     },
     "execution_count": 2,
     "metadata": {},
     "output_type": "execute_result"
    }
   ],
   "source": [
    "rdd = sc.textFile(\"../data/Sample.txt\")\n",
    "rdd.collect()"
   ]
  },
  {
   "cell_type": "markdown",
   "id": "39e940b2",
   "metadata": {},
   "source": [
    "### Apply Map Transformation to Split Text Lines\n",
    "This cell demonstrates the `map` transformation, which applies a function to each element in the RDD. Here, we split each line of text by spaces to create a new RDD where each element is a list of words. The lambda function `lambda x: x.split(' ')` takes each string element and splits it into a list of words."
   ]
  },
  {
   "cell_type": "code",
   "execution_count": null,
   "id": "fdea6ade",
   "metadata": {},
   "outputs": [
    {
     "data": {
      "text/plain": [
       "[['1', '2', '3', '4', '5'],\n",
       " ['3', '4', '5', '66', '77'],\n",
       " ['12', '43', '6', '7', '8'],\n",
       " ['12', '12', '33']]"
      ]
     },
     "execution_count": 3,
     "metadata": {},
     "output_type": "execute_result"
    }
   ],
   "source": [
    "rdd2 = rdd.map(lambda x: x.split(' '))\n",
    "rdd2.collect()"
   ]
  },
  {
   "cell_type": "markdown",
   "id": "7764c74e",
   "metadata": {},
   "source": [
    "### Display Sample Data Content\n",
    "This cell shows the sample data that will be processed with map transformations."
   ]
  },
  {
   "cell_type": "code",
   "execution_count": 8,
   "id": "055b7d00",
   "metadata": {},
   "outputs": [
    {
     "data": {
      "text/plain": [
       "['3 4 5 66 77', '12 43 6 7 8', '12 12 33']"
      ]
     },
     "execution_count": 8,
     "metadata": {},
     "output_type": "execute_result"
    }
   ],
   "source": [
    "[ '3 4 5 66 77', '12 43 6 7 8', '12 12 33']"
   ]
  },
  {
   "cell_type": "markdown",
   "id": "9c6559ff",
   "metadata": {},
   "source": [
    "### Apply Custom Map Transformation with Function\n",
    "This cell demonstrates using a custom function with the `map` transformation. The `foo` function splits each line, converts strings to integers, adds 2 to each number, and returns the modified list."
   ]
  },
  {
   "cell_type": "code",
   "execution_count": 6,
   "id": "a789280f",
   "metadata": {},
   "outputs": [
    {
     "data": {
      "text/plain": [
       "[[3, 4, 5, 6, 7], [5, 6, 7, 68, 79], [14, 45, 8, 9, 10], [14, 14, 35]]"
      ]
     },
     "execution_count": 6,
     "metadata": {},
     "output_type": "execute_result"
    }
   ],
   "source": [
    "def foo(x):\n",
    "    l = x.split()\n",
    "    l2 = []\n",
    "    for s in l:\n",
    "        l2.append(int(s) + 2)\n",
    "    return l2\n",
    "\n",
    "rdd3 = rdd.map(foo)\n",
    "rdd3.collect()"
   ]
  }
 ],
 "metadata": {
  "kernelspec": {
   "display_name": "Python 3",
   "language": "python",
   "name": "python3"
  },
  "language_info": {
   "codemirror_mode": {
    "name": "ipython",
    "version": 3
   },
   "file_extension": ".py",
   "mimetype": "text/x-python",
   "name": "python",
   "nbconvert_exporter": "python",
   "pygments_lexer": "ipython3",
   "version": "3.11.9"
  }
 },
 "nbformat": 4,
 "nbformat_minor": 5
}
